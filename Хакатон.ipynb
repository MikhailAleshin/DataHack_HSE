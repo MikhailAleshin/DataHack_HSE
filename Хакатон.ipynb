{
  "nbformat": 4,
  "nbformat_minor": 0,
  "metadata": {
    "colab": {
      "provenance": []
    },
    "kernelspec": {
      "name": "python3",
      "display_name": "Python 3"
    },
    "language_info": {
      "name": "python"
    }
  },
  "cells": [
    {
      "cell_type": "markdown",
      "source": [
        "## Библиотеки"
      ],
      "metadata": {
        "id": "cUXmzrDOX_sD"
      }
    },
    {
      "cell_type": "code",
      "source": [
        "! git clone https://github.com/facebookresearch/fastText.git\n",
        "! pip3 install fastText/."
      ],
      "metadata": {
        "colab": {
          "base_uri": "https://localhost:8080/"
        },
        "id": "7sxcTLZhAhJq",
        "outputId": "5fabc6df-acca-40de-faf4-0937250e4a18"
      },
      "execution_count": 1,
      "outputs": [
        {
          "output_type": "stream",
          "name": "stdout",
          "text": [
            "Cloning into 'fastText'...\n",
            "remote: Enumerating objects: 3930, done.\u001b[K\n",
            "remote: Counting objects: 100% (964/964), done.\u001b[K\n",
            "remote: Compressing objects: 100% (139/139), done.\u001b[K\n",
            "remote: Total 3930 (delta 873), reused 825 (delta 825), pack-reused 2966\u001b[K\n",
            "Receiving objects: 100% (3930/3930), 8.24 MiB | 10.32 MiB/s, done.\n",
            "Resolving deltas: 100% (2505/2505), done.\n",
            "Looking in indexes: https://pypi.org/simple, https://us-python.pkg.dev/colab-wheels/public/simple/\n",
            "Processing ./fastText\n",
            "  Preparing metadata (setup.py) ... \u001b[?25l\u001b[?25hdone\n",
            "Collecting pybind11>=2.2\n",
            "  Using cached pybind11-2.10.4-py3-none-any.whl (222 kB)\n",
            "Requirement already satisfied: setuptools>=0.7.0 in /usr/local/lib/python3.9/dist-packages (from fasttext==0.9.2) (67.6.1)\n",
            "Requirement already satisfied: numpy in /usr/local/lib/python3.9/dist-packages (from fasttext==0.9.2) (1.22.4)\n",
            "Building wheels for collected packages: fasttext\n",
            "  Building wheel for fasttext (setup.py) ... \u001b[?25l\u001b[?25hdone\n",
            "  Created wheel for fasttext: filename=fasttext-0.9.2-cp39-cp39-linux_x86_64.whl size=4381799 sha256=f970f4215bc131e52a8afa20d712443a47b03ad6c6f96eb4622e96969b018f7f\n",
            "  Stored in directory: /tmp/pip-ephem-wheel-cache-ot57rpxd/wheels/2d/3b/6c/b1dab8ae56dbff3fc7c26103ce1f0646f1a39f6a06db46db46\n",
            "Successfully built fasttext\n",
            "Installing collected packages: pybind11, fasttext\n",
            "Successfully installed fasttext-0.9.2 pybind11-2.10.4\n"
          ]
        }
      ]
    },
    {
      "cell_type": "code",
      "source": [
        "! pip install fasttext --quiet\n",
        "! gdown --id 1su3IYY1avcj95tez69JI8f5qsTng72-I"
      ],
      "metadata": {
        "colab": {
          "base_uri": "https://localhost:8080/"
        },
        "id": "vp6YRL6VAio3",
        "outputId": "7f8aad33-ca15-44b3-ba4c-d652298b27a9"
      },
      "execution_count": 2,
      "outputs": [
        {
          "output_type": "stream",
          "name": "stdout",
          "text": [
            "/usr/local/lib/python3.9/dist-packages/gdown/cli.py:121: FutureWarning: Option `--id` was deprecated in version 4.3.1 and will be removed in 5.0. You don't need to pass it anymore to use a file ID.\n",
            "  warnings.warn(\n",
            "Downloading...\n",
            "From: https://drive.google.com/uc?id=1su3IYY1avcj95tez69JI8f5qsTng72-I\n",
            "To: /content/rudrec_fasttext_model.bin\n",
            "100% 2.05G/2.05G [00:20<00:00, 98.2MB/s]\n"
          ]
        }
      ]
    },
    {
      "cell_type": "code",
      "source": [
        "!pip install transformers"
      ],
      "metadata": {
        "colab": {
          "base_uri": "https://localhost:8080/"
        },
        "id": "kKYOSEvZAkSV",
        "outputId": "d8ea1d15-b875-4444-b681-dcd00c5047e6"
      },
      "execution_count": 3,
      "outputs": [
        {
          "output_type": "stream",
          "name": "stdout",
          "text": [
            "Looking in indexes: https://pypi.org/simple, https://us-python.pkg.dev/colab-wheels/public/simple/\n",
            "Collecting transformers\n",
            "  Downloading transformers-4.27.4-py3-none-any.whl (6.8 MB)\n",
            "\u001b[2K     \u001b[90m━━━━━━━━━━━━━━━━━━━━━━━━━━━━━━━━━━━━━━━━\u001b[0m \u001b[32m6.8/6.8 MB\u001b[0m \u001b[31m51.9 MB/s\u001b[0m eta \u001b[36m0:00:00\u001b[0m\n",
            "\u001b[?25hRequirement already satisfied: filelock in /usr/local/lib/python3.9/dist-packages (from transformers) (3.10.7)\n",
            "Requirement already satisfied: tqdm>=4.27 in /usr/local/lib/python3.9/dist-packages (from transformers) (4.65.0)\n",
            "Requirement already satisfied: packaging>=20.0 in /usr/local/lib/python3.9/dist-packages (from transformers) (23.0)\n",
            "Requirement already satisfied: regex!=2019.12.17 in /usr/local/lib/python3.9/dist-packages (from transformers) (2022.10.31)\n",
            "Requirement already satisfied: requests in /usr/local/lib/python3.9/dist-packages (from transformers) (2.27.1)\n",
            "Collecting huggingface-hub<1.0,>=0.11.0\n",
            "  Downloading huggingface_hub-0.13.4-py3-none-any.whl (200 kB)\n",
            "\u001b[2K     \u001b[90m━━━━━━━━━━━━━━━━━━━━━━━━━━━━━━━━━━━━━━\u001b[0m \u001b[32m200.1/200.1 KB\u001b[0m \u001b[31m20.2 MB/s\u001b[0m eta \u001b[36m0:00:00\u001b[0m\n",
            "\u001b[?25hRequirement already satisfied: pyyaml>=5.1 in /usr/local/lib/python3.9/dist-packages (from transformers) (6.0)\n",
            "Requirement already satisfied: numpy>=1.17 in /usr/local/lib/python3.9/dist-packages (from transformers) (1.22.4)\n",
            "Collecting tokenizers!=0.11.3,<0.14,>=0.11.1\n",
            "  Downloading tokenizers-0.13.3-cp39-cp39-manylinux_2_17_x86_64.manylinux2014_x86_64.whl (7.8 MB)\n",
            "\u001b[2K     \u001b[90m━━━━━━━━━━━━━━━━━━━━━━━━━━━━━━━━━━━━━━━━\u001b[0m \u001b[32m7.8/7.8 MB\u001b[0m \u001b[31m50.0 MB/s\u001b[0m eta \u001b[36m0:00:00\u001b[0m\n",
            "\u001b[?25hRequirement already satisfied: typing-extensions>=3.7.4.3 in /usr/local/lib/python3.9/dist-packages (from huggingface-hub<1.0,>=0.11.0->transformers) (4.5.0)\n",
            "Requirement already satisfied: urllib3<1.27,>=1.21.1 in /usr/local/lib/python3.9/dist-packages (from requests->transformers) (1.26.15)\n",
            "Requirement already satisfied: charset-normalizer~=2.0.0 in /usr/local/lib/python3.9/dist-packages (from requests->transformers) (2.0.12)\n",
            "Requirement already satisfied: certifi>=2017.4.17 in /usr/local/lib/python3.9/dist-packages (from requests->transformers) (2022.12.7)\n",
            "Requirement already satisfied: idna<4,>=2.5 in /usr/local/lib/python3.9/dist-packages (from requests->transformers) (3.4)\n",
            "Installing collected packages: tokenizers, huggingface-hub, transformers\n",
            "Successfully installed huggingface-hub-0.13.4 tokenizers-0.13.3 transformers-4.27.4\n"
          ]
        }
      ]
    },
    {
      "cell_type": "code",
      "source": [
        "!pip install pymorphy2"
      ],
      "metadata": {
        "colab": {
          "base_uri": "https://localhost:8080/"
        },
        "id": "kcVfZJ0OAmC2",
        "outputId": "8a7fff93-bb7f-4caf-ff26-e1df11329cbf"
      },
      "execution_count": 4,
      "outputs": [
        {
          "output_type": "stream",
          "name": "stdout",
          "text": [
            "Looking in indexes: https://pypi.org/simple, https://us-python.pkg.dev/colab-wheels/public/simple/\n",
            "Collecting pymorphy2\n",
            "  Downloading pymorphy2-0.9.1-py3-none-any.whl (55 kB)\n",
            "\u001b[2K     \u001b[90m━━━━━━━━━━━━━━━━━━━━━━━━━━━━━━━━━━━━━━━━\u001b[0m \u001b[32m55.5/55.5 KB\u001b[0m \u001b[31m5.9 MB/s\u001b[0m eta \u001b[36m0:00:00\u001b[0m\n",
            "\u001b[?25hCollecting docopt>=0.6\n",
            "  Downloading docopt-0.6.2.tar.gz (25 kB)\n",
            "  Preparing metadata (setup.py) ... \u001b[?25l\u001b[?25hdone\n",
            "Collecting dawg-python>=0.7.1\n",
            "  Downloading DAWG_Python-0.7.2-py2.py3-none-any.whl (11 kB)\n",
            "Collecting pymorphy2-dicts-ru<3.0,>=2.4\n",
            "  Downloading pymorphy2_dicts_ru-2.4.417127.4579844-py2.py3-none-any.whl (8.2 MB)\n",
            "\u001b[2K     \u001b[90m━━━━━━━━━━━━━━━━━━━━━━━━━━━━━━━━━━━━━━━━\u001b[0m \u001b[32m8.2/8.2 MB\u001b[0m \u001b[31m75.3 MB/s\u001b[0m eta \u001b[36m0:00:00\u001b[0m\n",
            "\u001b[?25hBuilding wheels for collected packages: docopt\n",
            "  Building wheel for docopt (setup.py) ... \u001b[?25l\u001b[?25hdone\n",
            "  Created wheel for docopt: filename=docopt-0.6.2-py2.py3-none-any.whl size=13721 sha256=a033a3a6d100d5165b200798e8b7bf6da51647551b1f503ecc090b6273c2a5d9\n",
            "  Stored in directory: /root/.cache/pip/wheels/70/4a/46/1309fc853b8d395e60bafaf1b6df7845bdd82c95fd59dd8d2b\n",
            "Successfully built docopt\n",
            "Installing collected packages: pymorphy2-dicts-ru, docopt, dawg-python, pymorphy2\n",
            "Successfully installed dawg-python-0.7.2 docopt-0.6.2 pymorphy2-0.9.1 pymorphy2-dicts-ru-2.4.417127.4579844\n"
          ]
        }
      ]
    },
    {
      "cell_type": "code",
      "source": [
        "!pip install keras_preprocessing"
      ],
      "metadata": {
        "colab": {
          "base_uri": "https://localhost:8080/"
        },
        "id": "9M67U690ImJk",
        "outputId": "f34e8f62-8365-448f-e12d-063006b7f320"
      },
      "execution_count": 5,
      "outputs": [
        {
          "output_type": "stream",
          "name": "stdout",
          "text": [
            "Looking in indexes: https://pypi.org/simple, https://us-python.pkg.dev/colab-wheels/public/simple/\n",
            "Collecting keras_preprocessing\n",
            "  Downloading Keras_Preprocessing-1.1.2-py2.py3-none-any.whl (42 kB)\n",
            "\u001b[2K     \u001b[90m━━━━━━━━━━━━━━━━━━━━━━━━━━━━━━━━━━━━━━━━\u001b[0m \u001b[32m42.6/42.6 KB\u001b[0m \u001b[31m4.1 MB/s\u001b[0m eta \u001b[36m0:00:00\u001b[0m\n",
            "\u001b[?25hRequirement already satisfied: numpy>=1.9.1 in /usr/local/lib/python3.9/dist-packages (from keras_preprocessing) (1.22.4)\n",
            "Requirement already satisfied: six>=1.9.0 in /usr/local/lib/python3.9/dist-packages (from keras_preprocessing) (1.16.0)\n",
            "Installing collected packages: keras_preprocessing\n",
            "Successfully installed keras_preprocessing-1.1.2\n"
          ]
        }
      ]
    },
    {
      "cell_type": "code",
      "source": [
        "import fasttext\n",
        "\n",
        "import nltk\n",
        "nltk.download(\"stopwords\")\n",
        "nltk.download(\"punkt\")\n",
        "from nltk.tokenize import word_tokenize\n",
        "from nltk.corpus import stopwords\n",
        "from nltk.probability import FreqDist\n",
        "from nltk import Text\n",
        "\n",
        "import pymorphy2\n",
        "\n",
        "from keras_preprocessing import sequence\n",
        "from keras_preprocessing.text import Tokenizer\n",
        "\n",
        "from sklearn.metrics import f1_score\n",
        "from sklearn.metrics import precision_score\n",
        "from sklearn.metrics import recall_score\n",
        "from sklearn.metrics import roc_auc_score\n",
        "from sklearn.model_selection import train_test_split\n",
        "\n",
        "import tensorflow\n",
        "from tensorflow.keras import Model\n",
        "from tensorflow.keras.callbacks import EarlyStopping\n",
        "from tensorflow.keras.layers import Concatenate\n",
        "from tensorflow.keras.layers import Conv1D\n",
        "from tensorflow.keras.layers import Dense\n",
        "from tensorflow.keras.layers import Embedding\n",
        "from tensorflow.keras.layers import GlobalMaxPooling1D\n",
        "from tensorflow import keras\n",
        "from tensorflow.keras import  Sequential, layers\n",
        "\n",
        "import torch\n",
        "from torch import nn, optim\n",
        "#from torch.utils.data import Dataset, DataLoader\n",
        "\n",
        "import transformers\n",
        "from transformers import BertModel, BertTokenizer, AdamW, get_linear_schedule_with_warmup, BertForSequenceClassification, Trainer, TrainingArguments"
      ],
      "metadata": {
        "colab": {
          "base_uri": "https://localhost:8080/"
        },
        "id": "cjELTEz2ArhG",
        "outputId": "3001a6d2-5600-4c91-d102-5f8688abb292"
      },
      "execution_count": 6,
      "outputs": [
        {
          "output_type": "stream",
          "name": "stderr",
          "text": [
            "[nltk_data] Downloading package stopwords to /root/nltk_data...\n",
            "[nltk_data]   Unzipping corpora/stopwords.zip.\n",
            "[nltk_data] Downloading package punkt to /root/nltk_data...\n",
            "[nltk_data]   Unzipping tokenizers/punkt.zip.\n"
          ]
        }
      ]
    },
    {
      "cell_type": "code",
      "execution_count": 7,
      "metadata": {
        "id": "BNjnlJwjRRij"
      },
      "outputs": [],
      "source": [
        "import pandas as pd\n",
        "import numpy as np\n",
        "import math\n",
        "from itertools import *\n",
        "\n",
        "import time\n",
        "from datetime import datetime\n",
        "\n",
        "import matplotlib\n",
        "import matplotlib.pyplot as plt\n",
        "import seaborn as sns\n",
        "import plotly\n",
        "import plotly.graph_objects as go\n",
        "\n",
        "#import json\n",
        "#from google.colab import drive\n",
        "\n",
        "import re\n",
        "from warnings import filterwarnings\n",
        "filterwarnings('ignore')"
      ]
    },
    {
      "cell_type": "markdown",
      "source": [
        "## Данные"
      ],
      "metadata": {
        "id": "IllZ5OZiYKgA"
      }
    },
    {
      "cell_type": "markdown",
      "source": [
        "### traint.csv"
      ],
      "metadata": {
        "id": "v1_qwkiapqkc"
      }
    },
    {
      "cell_type": "code",
      "source": [
        "df_train = pd.read_csv('train.csv').rename(columns={\"Unnamed: 0\": \"id\"})\n",
        "\n",
        "print('Shape: ', df_train.shape)\n",
        "\n",
        "print(pd.unique(df_train['sentiment']))\n",
        "print(pd.unique(df_train['1category']))"
      ],
      "metadata": {
        "colab": {
          "base_uri": "https://localhost:8080/"
        },
        "id": "KX5ZTknjRbAz",
        "outputId": "e235500e-097a-4ccd-8242-c4fe45d879f7"
      },
      "execution_count": 131,
      "outputs": [
        {
          "output_type": "stream",
          "name": "stdout",
          "text": [
            "Shape:  (19361, 5)\n",
            "['+' '−' '?']\n",
            "['Communication' '?' 'Quality' 'Price' 'Safety']\n"
          ]
        }
      ]
    },
    {
      "cell_type": "code",
      "source": [
        "df_train.head()"
      ],
      "metadata": {
        "colab": {
          "base_uri": "https://localhost:8080/",
          "height": 206
        },
        "id": "1YM2bNb8R6RR",
        "outputId": "12f76675-3dbe-4c23-f221-b886728a1e2e"
      },
      "execution_count": 132,
      "outputs": [
        {
          "output_type": "execute_result",
          "data": {
            "text/plain": [
              "      id                                           sentence      1category  \\\n",
              "0   4754       При этом всегда получал качественные услуги.  Communication   \n",
              "1   4417  Не вижу, за что хотя бы 2 поставить, сервис на 1!              ?   \n",
              "2   3629       Вот так \"Мой любимый\" банк МКБ меня обманул.              ?   \n",
              "3  11640               Отвратительное отношение к клиентам.  Communication   \n",
              "4   5571  Всегда в любое время дня и ночи помогут, ответ...  Communication   \n",
              "\n",
              "  2category sentiment  \n",
              "0       NaN         +  \n",
              "1       NaN         −  \n",
              "2       NaN         −  \n",
              "3       NaN         −  \n",
              "4       NaN         +  "
            ],
            "text/html": [
              "\n",
              "  <div id=\"df-63340781-c1dd-4bbe-bee4-5986bbaeaf33\">\n",
              "    <div class=\"colab-df-container\">\n",
              "      <div>\n",
              "<style scoped>\n",
              "    .dataframe tbody tr th:only-of-type {\n",
              "        vertical-align: middle;\n",
              "    }\n",
              "\n",
              "    .dataframe tbody tr th {\n",
              "        vertical-align: top;\n",
              "    }\n",
              "\n",
              "    .dataframe thead th {\n",
              "        text-align: right;\n",
              "    }\n",
              "</style>\n",
              "<table border=\"1\" class=\"dataframe\">\n",
              "  <thead>\n",
              "    <tr style=\"text-align: right;\">\n",
              "      <th></th>\n",
              "      <th>id</th>\n",
              "      <th>sentence</th>\n",
              "      <th>1category</th>\n",
              "      <th>2category</th>\n",
              "      <th>sentiment</th>\n",
              "    </tr>\n",
              "  </thead>\n",
              "  <tbody>\n",
              "    <tr>\n",
              "      <th>0</th>\n",
              "      <td>4754</td>\n",
              "      <td>При этом всегда получал качественные услуги.</td>\n",
              "      <td>Communication</td>\n",
              "      <td>NaN</td>\n",
              "      <td>+</td>\n",
              "    </tr>\n",
              "    <tr>\n",
              "      <th>1</th>\n",
              "      <td>4417</td>\n",
              "      <td>Не вижу, за что хотя бы 2 поставить, сервис на 1!</td>\n",
              "      <td>?</td>\n",
              "      <td>NaN</td>\n",
              "      <td>−</td>\n",
              "    </tr>\n",
              "    <tr>\n",
              "      <th>2</th>\n",
              "      <td>3629</td>\n",
              "      <td>Вот так \"Мой любимый\" банк МКБ меня обманул.</td>\n",
              "      <td>?</td>\n",
              "      <td>NaN</td>\n",
              "      <td>−</td>\n",
              "    </tr>\n",
              "    <tr>\n",
              "      <th>3</th>\n",
              "      <td>11640</td>\n",
              "      <td>Отвратительное отношение к клиентам.</td>\n",
              "      <td>Communication</td>\n",
              "      <td>NaN</td>\n",
              "      <td>−</td>\n",
              "    </tr>\n",
              "    <tr>\n",
              "      <th>4</th>\n",
              "      <td>5571</td>\n",
              "      <td>Всегда в любое время дня и ночи помогут, ответ...</td>\n",
              "      <td>Communication</td>\n",
              "      <td>NaN</td>\n",
              "      <td>+</td>\n",
              "    </tr>\n",
              "  </tbody>\n",
              "</table>\n",
              "</div>\n",
              "      <button class=\"colab-df-convert\" onclick=\"convertToInteractive('df-63340781-c1dd-4bbe-bee4-5986bbaeaf33')\"\n",
              "              title=\"Convert this dataframe to an interactive table.\"\n",
              "              style=\"display:none;\">\n",
              "        \n",
              "  <svg xmlns=\"http://www.w3.org/2000/svg\" height=\"24px\"viewBox=\"0 0 24 24\"\n",
              "       width=\"24px\">\n",
              "    <path d=\"M0 0h24v24H0V0z\" fill=\"none\"/>\n",
              "    <path d=\"M18.56 5.44l.94 2.06.94-2.06 2.06-.94-2.06-.94-.94-2.06-.94 2.06-2.06.94zm-11 1L8.5 8.5l.94-2.06 2.06-.94-2.06-.94L8.5 2.5l-.94 2.06-2.06.94zm10 10l.94 2.06.94-2.06 2.06-.94-2.06-.94-.94-2.06-.94 2.06-2.06.94z\"/><path d=\"M17.41 7.96l-1.37-1.37c-.4-.4-.92-.59-1.43-.59-.52 0-1.04.2-1.43.59L10.3 9.45l-7.72 7.72c-.78.78-.78 2.05 0 2.83L4 21.41c.39.39.9.59 1.41.59.51 0 1.02-.2 1.41-.59l7.78-7.78 2.81-2.81c.8-.78.8-2.07 0-2.86zM5.41 20L4 18.59l7.72-7.72 1.47 1.35L5.41 20z\"/>\n",
              "  </svg>\n",
              "      </button>\n",
              "      \n",
              "  <style>\n",
              "    .colab-df-container {\n",
              "      display:flex;\n",
              "      flex-wrap:wrap;\n",
              "      gap: 12px;\n",
              "    }\n",
              "\n",
              "    .colab-df-convert {\n",
              "      background-color: #E8F0FE;\n",
              "      border: none;\n",
              "      border-radius: 50%;\n",
              "      cursor: pointer;\n",
              "      display: none;\n",
              "      fill: #1967D2;\n",
              "      height: 32px;\n",
              "      padding: 0 0 0 0;\n",
              "      width: 32px;\n",
              "    }\n",
              "\n",
              "    .colab-df-convert:hover {\n",
              "      background-color: #E2EBFA;\n",
              "      box-shadow: 0px 1px 2px rgba(60, 64, 67, 0.3), 0px 1px 3px 1px rgba(60, 64, 67, 0.15);\n",
              "      fill: #174EA6;\n",
              "    }\n",
              "\n",
              "    [theme=dark] .colab-df-convert {\n",
              "      background-color: #3B4455;\n",
              "      fill: #D2E3FC;\n",
              "    }\n",
              "\n",
              "    [theme=dark] .colab-df-convert:hover {\n",
              "      background-color: #434B5C;\n",
              "      box-shadow: 0px 1px 3px 1px rgba(0, 0, 0, 0.15);\n",
              "      filter: drop-shadow(0px 1px 2px rgba(0, 0, 0, 0.3));\n",
              "      fill: #FFFFFF;\n",
              "    }\n",
              "  </style>\n",
              "\n",
              "      <script>\n",
              "        const buttonEl =\n",
              "          document.querySelector('#df-63340781-c1dd-4bbe-bee4-5986bbaeaf33 button.colab-df-convert');\n",
              "        buttonEl.style.display =\n",
              "          google.colab.kernel.accessAllowed ? 'block' : 'none';\n",
              "\n",
              "        async function convertToInteractive(key) {\n",
              "          const element = document.querySelector('#df-63340781-c1dd-4bbe-bee4-5986bbaeaf33');\n",
              "          const dataTable =\n",
              "            await google.colab.kernel.invokeFunction('convertToInteractive',\n",
              "                                                     [key], {});\n",
              "          if (!dataTable) return;\n",
              "\n",
              "          const docLinkHtml = 'Like what you see? Visit the ' +\n",
              "            '<a target=\"_blank\" href=https://colab.research.google.com/notebooks/data_table.ipynb>data table notebook</a>'\n",
              "            + ' to learn more about interactive tables.';\n",
              "          element.innerHTML = '';\n",
              "          dataTable['output_type'] = 'display_data';\n",
              "          await google.colab.output.renderOutput(dataTable, element);\n",
              "          const docLink = document.createElement('div');\n",
              "          docLink.innerHTML = docLinkHtml;\n",
              "          element.appendChild(docLink);\n",
              "        }\n",
              "      </script>\n",
              "    </div>\n",
              "  </div>\n",
              "  "
            ]
          },
          "metadata": {},
          "execution_count": 132
        }
      ]
    },
    {
      "cell_type": "markdown",
      "source": [
        "### test"
      ],
      "metadata": {
        "id": "nCKCYYqQpt8f"
      }
    },
    {
      "cell_type": "code",
      "source": [
        "df_test = pd.read_csv('1sentencenewtest.csv').rename(columns={\"0\": \"texts\"})\n",
        "print('Shape: ', df_test.shape)"
      ],
      "metadata": {
        "id": "DeM6ooNGmvdp",
        "colab": {
          "base_uri": "https://localhost:8080/"
        },
        "outputId": "52d627ac-6ff0-4842-fc1f-aeced8d604e3"
      },
      "execution_count": 138,
      "outputs": [
        {
          "output_type": "stream",
          "name": "stdout",
          "text": [
            "Shape:  (949, 2)\n"
          ]
        }
      ]
    },
    {
      "cell_type": "code",
      "source": [
        "df_test.head(5)"
      ],
      "metadata": {
        "id": "SubiHOlIm3fR",
        "colab": {
          "base_uri": "https://localhost:8080/",
          "height": 206
        },
        "outputId": "f2560830-fc1c-40f0-fa43-4642a39a3b01"
      },
      "execution_count": 139,
      "outputs": [
        {
          "output_type": "execute_result",
          "data": {
            "text/plain": [
              "   Unnamed: 0                                              texts\n",
              "0           0  15.03.2022 обратился на горячую линию для закр...\n",
              "1           1  Уже который год в ТКБ не решается \"глобальная ...\n",
              "2           2                                        Добрый день\n",
              "3           3  Добрый день Сегодня, зайдя в свой личный кабин...\n",
              "4           4  Обслуживаюсь в Тинькофф пару лет, возникла жес..."
            ],
            "text/html": [
              "\n",
              "  <div id=\"df-f9a0c0cd-872e-460f-8ec5-8c3aa872ac12\">\n",
              "    <div class=\"colab-df-container\">\n",
              "      <div>\n",
              "<style scoped>\n",
              "    .dataframe tbody tr th:only-of-type {\n",
              "        vertical-align: middle;\n",
              "    }\n",
              "\n",
              "    .dataframe tbody tr th {\n",
              "        vertical-align: top;\n",
              "    }\n",
              "\n",
              "    .dataframe thead th {\n",
              "        text-align: right;\n",
              "    }\n",
              "</style>\n",
              "<table border=\"1\" class=\"dataframe\">\n",
              "  <thead>\n",
              "    <tr style=\"text-align: right;\">\n",
              "      <th></th>\n",
              "      <th>Unnamed: 0</th>\n",
              "      <th>texts</th>\n",
              "    </tr>\n",
              "  </thead>\n",
              "  <tbody>\n",
              "    <tr>\n",
              "      <th>0</th>\n",
              "      <td>0</td>\n",
              "      <td>15.03.2022 обратился на горячую линию для закр...</td>\n",
              "    </tr>\n",
              "    <tr>\n",
              "      <th>1</th>\n",
              "      <td>1</td>\n",
              "      <td>Уже который год в ТКБ не решается \"глобальная ...</td>\n",
              "    </tr>\n",
              "    <tr>\n",
              "      <th>2</th>\n",
              "      <td>2</td>\n",
              "      <td>Добрый день</td>\n",
              "    </tr>\n",
              "    <tr>\n",
              "      <th>3</th>\n",
              "      <td>3</td>\n",
              "      <td>Добрый день Сегодня, зайдя в свой личный кабин...</td>\n",
              "    </tr>\n",
              "    <tr>\n",
              "      <th>4</th>\n",
              "      <td>4</td>\n",
              "      <td>Обслуживаюсь в Тинькофф пару лет, возникла жес...</td>\n",
              "    </tr>\n",
              "  </tbody>\n",
              "</table>\n",
              "</div>\n",
              "      <button class=\"colab-df-convert\" onclick=\"convertToInteractive('df-f9a0c0cd-872e-460f-8ec5-8c3aa872ac12')\"\n",
              "              title=\"Convert this dataframe to an interactive table.\"\n",
              "              style=\"display:none;\">\n",
              "        \n",
              "  <svg xmlns=\"http://www.w3.org/2000/svg\" height=\"24px\"viewBox=\"0 0 24 24\"\n",
              "       width=\"24px\">\n",
              "    <path d=\"M0 0h24v24H0V0z\" fill=\"none\"/>\n",
              "    <path d=\"M18.56 5.44l.94 2.06.94-2.06 2.06-.94-2.06-.94-.94-2.06-.94 2.06-2.06.94zm-11 1L8.5 8.5l.94-2.06 2.06-.94-2.06-.94L8.5 2.5l-.94 2.06-2.06.94zm10 10l.94 2.06.94-2.06 2.06-.94-2.06-.94-.94-2.06-.94 2.06-2.06.94z\"/><path d=\"M17.41 7.96l-1.37-1.37c-.4-.4-.92-.59-1.43-.59-.52 0-1.04.2-1.43.59L10.3 9.45l-7.72 7.72c-.78.78-.78 2.05 0 2.83L4 21.41c.39.39.9.59 1.41.59.51 0 1.02-.2 1.41-.59l7.78-7.78 2.81-2.81c.8-.78.8-2.07 0-2.86zM5.41 20L4 18.59l7.72-7.72 1.47 1.35L5.41 20z\"/>\n",
              "  </svg>\n",
              "      </button>\n",
              "      \n",
              "  <style>\n",
              "    .colab-df-container {\n",
              "      display:flex;\n",
              "      flex-wrap:wrap;\n",
              "      gap: 12px;\n",
              "    }\n",
              "\n",
              "    .colab-df-convert {\n",
              "      background-color: #E8F0FE;\n",
              "      border: none;\n",
              "      border-radius: 50%;\n",
              "      cursor: pointer;\n",
              "      display: none;\n",
              "      fill: #1967D2;\n",
              "      height: 32px;\n",
              "      padding: 0 0 0 0;\n",
              "      width: 32px;\n",
              "    }\n",
              "\n",
              "    .colab-df-convert:hover {\n",
              "      background-color: #E2EBFA;\n",
              "      box-shadow: 0px 1px 2px rgba(60, 64, 67, 0.3), 0px 1px 3px 1px rgba(60, 64, 67, 0.15);\n",
              "      fill: #174EA6;\n",
              "    }\n",
              "\n",
              "    [theme=dark] .colab-df-convert {\n",
              "      background-color: #3B4455;\n",
              "      fill: #D2E3FC;\n",
              "    }\n",
              "\n",
              "    [theme=dark] .colab-df-convert:hover {\n",
              "      background-color: #434B5C;\n",
              "      box-shadow: 0px 1px 3px 1px rgba(0, 0, 0, 0.15);\n",
              "      filter: drop-shadow(0px 1px 2px rgba(0, 0, 0, 0.3));\n",
              "      fill: #FFFFFF;\n",
              "    }\n",
              "  </style>\n",
              "\n",
              "      <script>\n",
              "        const buttonEl =\n",
              "          document.querySelector('#df-f9a0c0cd-872e-460f-8ec5-8c3aa872ac12 button.colab-df-convert');\n",
              "        buttonEl.style.display =\n",
              "          google.colab.kernel.accessAllowed ? 'block' : 'none';\n",
              "\n",
              "        async function convertToInteractive(key) {\n",
              "          const element = document.querySelector('#df-f9a0c0cd-872e-460f-8ec5-8c3aa872ac12');\n",
              "          const dataTable =\n",
              "            await google.colab.kernel.invokeFunction('convertToInteractive',\n",
              "                                                     [key], {});\n",
              "          if (!dataTable) return;\n",
              "\n",
              "          const docLinkHtml = 'Like what you see? Visit the ' +\n",
              "            '<a target=\"_blank\" href=https://colab.research.google.com/notebooks/data_table.ipynb>data table notebook</a>'\n",
              "            + ' to learn more about interactive tables.';\n",
              "          element.innerHTML = '';\n",
              "          dataTable['output_type'] = 'display_data';\n",
              "          await google.colab.output.renderOutput(dataTable, element);\n",
              "          const docLink = document.createElement('div');\n",
              "          docLink.innerHTML = docLinkHtml;\n",
              "          element.appendChild(docLink);\n",
              "        }\n",
              "      </script>\n",
              "    </div>\n",
              "  </div>\n",
              "  "
            ]
          },
          "metadata": {},
          "execution_count": 139
        }
      ]
    },
    {
      "cell_type": "code",
      "source": [
        "df_ex = pd.read_csv('sub_example_true.csv')\n",
        "df_ex.head(5)"
      ],
      "metadata": {
        "colab": {
          "base_uri": "https://localhost:8080/",
          "height": 206
        },
        "id": "-7A92nFdF-yw",
        "outputId": "678f72b6-6840-490f-d6b7-bafe4666b531"
      },
      "execution_count": 140,
      "outputs": [
        {
          "output_type": "execute_result",
          "data": {
            "text/plain": [
              "   Unnamed: 0                                              texts     +     -  \\\n",
              "0         186  Хочу сказать огромное спасибо банку Тинькофф з...  0.33  0.33   \n",
              "1        7722  Альфа-банк, привет! Хотел узнать, что надо так...  0.33  0.33   \n",
              "2        4580  Являюсь клиентом данного банка уже более 10 ле...  0.33  0.33   \n",
              "3        1982  Часть 1. Отзыв пришлось разделить на 2 части и...  0.33  0.33   \n",
              "4         864  Здравствуйте. Хочу поделиться очень грустной и...  0.33  0.33   \n",
              "\n",
              "      ?  communication  quality  price  safety  second_category  \n",
              "0  0.33           0.25     0.25   0.25    0.25                0  \n",
              "1  0.33           0.25     0.25   0.25    0.25                1  \n",
              "2  0.33           0.25     0.25   0.25    0.25                1  \n",
              "3  0.33           0.25     0.25   0.25    0.25                0  \n",
              "4  0.33           0.25     0.25   0.25    0.25                0  "
            ],
            "text/html": [
              "\n",
              "  <div id=\"df-1415a19b-316f-4daa-b9ab-4372d126448f\">\n",
              "    <div class=\"colab-df-container\">\n",
              "      <div>\n",
              "<style scoped>\n",
              "    .dataframe tbody tr th:only-of-type {\n",
              "        vertical-align: middle;\n",
              "    }\n",
              "\n",
              "    .dataframe tbody tr th {\n",
              "        vertical-align: top;\n",
              "    }\n",
              "\n",
              "    .dataframe thead th {\n",
              "        text-align: right;\n",
              "    }\n",
              "</style>\n",
              "<table border=\"1\" class=\"dataframe\">\n",
              "  <thead>\n",
              "    <tr style=\"text-align: right;\">\n",
              "      <th></th>\n",
              "      <th>Unnamed: 0</th>\n",
              "      <th>texts</th>\n",
              "      <th>+</th>\n",
              "      <th>-</th>\n",
              "      <th>?</th>\n",
              "      <th>communication</th>\n",
              "      <th>quality</th>\n",
              "      <th>price</th>\n",
              "      <th>safety</th>\n",
              "      <th>second_category</th>\n",
              "    </tr>\n",
              "  </thead>\n",
              "  <tbody>\n",
              "    <tr>\n",
              "      <th>0</th>\n",
              "      <td>186</td>\n",
              "      <td>Хочу сказать огромное спасибо банку Тинькофф з...</td>\n",
              "      <td>0.33</td>\n",
              "      <td>0.33</td>\n",
              "      <td>0.33</td>\n",
              "      <td>0.25</td>\n",
              "      <td>0.25</td>\n",
              "      <td>0.25</td>\n",
              "      <td>0.25</td>\n",
              "      <td>0</td>\n",
              "    </tr>\n",
              "    <tr>\n",
              "      <th>1</th>\n",
              "      <td>7722</td>\n",
              "      <td>Альфа-банк, привет! Хотел узнать, что надо так...</td>\n",
              "      <td>0.33</td>\n",
              "      <td>0.33</td>\n",
              "      <td>0.33</td>\n",
              "      <td>0.25</td>\n",
              "      <td>0.25</td>\n",
              "      <td>0.25</td>\n",
              "      <td>0.25</td>\n",
              "      <td>1</td>\n",
              "    </tr>\n",
              "    <tr>\n",
              "      <th>2</th>\n",
              "      <td>4580</td>\n",
              "      <td>Являюсь клиентом данного банка уже более 10 ле...</td>\n",
              "      <td>0.33</td>\n",
              "      <td>0.33</td>\n",
              "      <td>0.33</td>\n",
              "      <td>0.25</td>\n",
              "      <td>0.25</td>\n",
              "      <td>0.25</td>\n",
              "      <td>0.25</td>\n",
              "      <td>1</td>\n",
              "    </tr>\n",
              "    <tr>\n",
              "      <th>3</th>\n",
              "      <td>1982</td>\n",
              "      <td>Часть 1. Отзыв пришлось разделить на 2 части и...</td>\n",
              "      <td>0.33</td>\n",
              "      <td>0.33</td>\n",
              "      <td>0.33</td>\n",
              "      <td>0.25</td>\n",
              "      <td>0.25</td>\n",
              "      <td>0.25</td>\n",
              "      <td>0.25</td>\n",
              "      <td>0</td>\n",
              "    </tr>\n",
              "    <tr>\n",
              "      <th>4</th>\n",
              "      <td>864</td>\n",
              "      <td>Здравствуйте. Хочу поделиться очень грустной и...</td>\n",
              "      <td>0.33</td>\n",
              "      <td>0.33</td>\n",
              "      <td>0.33</td>\n",
              "      <td>0.25</td>\n",
              "      <td>0.25</td>\n",
              "      <td>0.25</td>\n",
              "      <td>0.25</td>\n",
              "      <td>0</td>\n",
              "    </tr>\n",
              "  </tbody>\n",
              "</table>\n",
              "</div>\n",
              "      <button class=\"colab-df-convert\" onclick=\"convertToInteractive('df-1415a19b-316f-4daa-b9ab-4372d126448f')\"\n",
              "              title=\"Convert this dataframe to an interactive table.\"\n",
              "              style=\"display:none;\">\n",
              "        \n",
              "  <svg xmlns=\"http://www.w3.org/2000/svg\" height=\"24px\"viewBox=\"0 0 24 24\"\n",
              "       width=\"24px\">\n",
              "    <path d=\"M0 0h24v24H0V0z\" fill=\"none\"/>\n",
              "    <path d=\"M18.56 5.44l.94 2.06.94-2.06 2.06-.94-2.06-.94-.94-2.06-.94 2.06-2.06.94zm-11 1L8.5 8.5l.94-2.06 2.06-.94-2.06-.94L8.5 2.5l-.94 2.06-2.06.94zm10 10l.94 2.06.94-2.06 2.06-.94-2.06-.94-.94-2.06-.94 2.06-2.06.94z\"/><path d=\"M17.41 7.96l-1.37-1.37c-.4-.4-.92-.59-1.43-.59-.52 0-1.04.2-1.43.59L10.3 9.45l-7.72 7.72c-.78.78-.78 2.05 0 2.83L4 21.41c.39.39.9.59 1.41.59.51 0 1.02-.2 1.41-.59l7.78-7.78 2.81-2.81c.8-.78.8-2.07 0-2.86zM5.41 20L4 18.59l7.72-7.72 1.47 1.35L5.41 20z\"/>\n",
              "  </svg>\n",
              "      </button>\n",
              "      \n",
              "  <style>\n",
              "    .colab-df-container {\n",
              "      display:flex;\n",
              "      flex-wrap:wrap;\n",
              "      gap: 12px;\n",
              "    }\n",
              "\n",
              "    .colab-df-convert {\n",
              "      background-color: #E8F0FE;\n",
              "      border: none;\n",
              "      border-radius: 50%;\n",
              "      cursor: pointer;\n",
              "      display: none;\n",
              "      fill: #1967D2;\n",
              "      height: 32px;\n",
              "      padding: 0 0 0 0;\n",
              "      width: 32px;\n",
              "    }\n",
              "\n",
              "    .colab-df-convert:hover {\n",
              "      background-color: #E2EBFA;\n",
              "      box-shadow: 0px 1px 2px rgba(60, 64, 67, 0.3), 0px 1px 3px 1px rgba(60, 64, 67, 0.15);\n",
              "      fill: #174EA6;\n",
              "    }\n",
              "\n",
              "    [theme=dark] .colab-df-convert {\n",
              "      background-color: #3B4455;\n",
              "      fill: #D2E3FC;\n",
              "    }\n",
              "\n",
              "    [theme=dark] .colab-df-convert:hover {\n",
              "      background-color: #434B5C;\n",
              "      box-shadow: 0px 1px 3px 1px rgba(0, 0, 0, 0.15);\n",
              "      filter: drop-shadow(0px 1px 2px rgba(0, 0, 0, 0.3));\n",
              "      fill: #FFFFFF;\n",
              "    }\n",
              "  </style>\n",
              "\n",
              "      <script>\n",
              "        const buttonEl =\n",
              "          document.querySelector('#df-1415a19b-316f-4daa-b9ab-4372d126448f button.colab-df-convert');\n",
              "        buttonEl.style.display =\n",
              "          google.colab.kernel.accessAllowed ? 'block' : 'none';\n",
              "\n",
              "        async function convertToInteractive(key) {\n",
              "          const element = document.querySelector('#df-1415a19b-316f-4daa-b9ab-4372d126448f');\n",
              "          const dataTable =\n",
              "            await google.colab.kernel.invokeFunction('convertToInteractive',\n",
              "                                                     [key], {});\n",
              "          if (!dataTable) return;\n",
              "\n",
              "          const docLinkHtml = 'Like what you see? Visit the ' +\n",
              "            '<a target=\"_blank\" href=https://colab.research.google.com/notebooks/data_table.ipynb>data table notebook</a>'\n",
              "            + ' to learn more about interactive tables.';\n",
              "          element.innerHTML = '';\n",
              "          dataTable['output_type'] = 'display_data';\n",
              "          await google.colab.output.renderOutput(dataTable, element);\n",
              "          const docLink = document.createElement('div');\n",
              "          docLink.innerHTML = docLinkHtml;\n",
              "          element.appendChild(docLink);\n",
              "        }\n",
              "      </script>\n",
              "    </div>\n",
              "  </div>\n",
              "  "
            ]
          },
          "metadata": {},
          "execution_count": 140
        }
      ]
    },
    {
      "cell_type": "markdown",
      "source": [
        "## Предобработка"
      ],
      "metadata": {
        "id": "u20shADwaZIu"
      }
    },
    {
      "cell_type": "code",
      "source": [
        "russian_stopwords = stopwords.words(\"russian\") + ['это']\n",
        "left_ = ['не', 'нет', 'нельзя', 'даже', 'почти', 'наконец', 'много', 'вcегда', 'более', 'лучше', 'хорошо']\n",
        "morph = pymorphy2.MorphAnalyzer()\n",
        "\n",
        "def clean(text):\n",
        "    # приводим к нижнему регистру и разбиваем на токены\n",
        "    tokens = word_tokenize(text.lower())\n",
        "    # приводим токены к начальной форме\n",
        "    for i in range (len(tokens)):\n",
        "            tokens[i] = morph.parse(tokens[i])[0].normal_form\n",
        "    # удаляем стоп-слова\n",
        "    tokens = [token for token in tokens if ((token not in russian_stopwords) or (token in left_))]\n",
        "    # убираем все, что не слова/?/!/\"\"\n",
        "    tokens =  [token for token in tokens if token.isalpha() or token in ['!','?', '\"']]\n",
        "    # считаем кол-во токенов после очистки/не/?/!/\"\n",
        "    #cur_len = len(tokens)\n",
        "    text = \" \".join(tokens)\n",
        "    return text #, cur_len\n",
        "\n",
        "def clean_texts(texts):\n",
        "    cleaned_txt = [clean(t) for t in texts.values]\n",
        "    return cleaned_txt"
      ],
      "metadata": {
        "id": "hg8BRu6gawi3"
      },
      "execution_count": 141,
      "outputs": []
    },
    {
      "cell_type": "code",
      "source": [
        "df_train['cleaned'] = clean_texts(df_train['sentence'])"
      ],
      "metadata": {
        "id": "D9lTIoQQqjFw"
      },
      "execution_count": 142,
      "outputs": []
    },
    {
      "cell_type": "code",
      "source": [
        "df_test['cleaned'] = clean_texts(df_test['texts'])"
      ],
      "metadata": {
        "id": "SjFXiFkopw5C"
      },
      "execution_count": 150,
      "outputs": []
    },
    {
      "cell_type": "code",
      "source": [
        "df_train['length'] = df_train['cleaned'].apply(lambda x: len(x.split()))\n",
        "\n",
        "df_train['with not'] = df_train['cleaned'].apply(lambda x: 0 if x.count('не') + x.count('нет') == 0 else 1)\n",
        "df_train['with ? or !'] = df_train['cleaned'].apply(lambda x: 0 if x.count('?') == 0 and x.count('!') == 0 else 1)\n",
        "df_train['with \"'] = df_train['sentence'].apply(lambda x: 0 if x.count('\"') == 0 else 1)"
      ],
      "metadata": {
        "id": "rqwzLdTz9Qvx"
      },
      "execution_count": 143,
      "outputs": []
    },
    {
      "cell_type": "code",
      "source": [
        "df_train.head(5)"
      ],
      "metadata": {
        "colab": {
          "base_uri": "https://localhost:8080/",
          "height": 319
        },
        "id": "-vGCJaZpvZBp",
        "outputId": "e0f6ada4-2939-4654-f9de-a7eb47604c09"
      },
      "execution_count": 144,
      "outputs": [
        {
          "output_type": "execute_result",
          "data": {
            "text/plain": [
              "      id                                           sentence      1category  \\\n",
              "0   4754       При этом всегда получал качественные услуги.  Communication   \n",
              "1   4417  Не вижу, за что хотя бы 2 поставить, сервис на 1!              ?   \n",
              "2   3629       Вот так \"Мой любимый\" банк МКБ меня обманул.              ?   \n",
              "3  11640               Отвратительное отношение к клиентам.  Communication   \n",
              "4   5571  Всегда в любое время дня и ночи помогут, ответ...  Communication   \n",
              "\n",
              "  2category sentiment                                       cleaned  length  \\\n",
              "0       NaN         +                  получать качественный услуга       3   \n",
              "1       NaN         −             не видеть хотя поставить сервис !       6   \n",
              "2       NaN         −                     любимый банк мкб обмануть       4   \n",
              "3       NaN         −               отвратительный отношение клиент       3   \n",
              "4       NaN         +  любой время день ночь помочь ответить решить       7   \n",
              "\n",
              "   with not  with ? or !  with \"  \n",
              "0         0            0       0  \n",
              "1         1            1       0  \n",
              "2         0            0       1  \n",
              "3         0            0       0  \n",
              "4         0            0       0  "
            ],
            "text/html": [
              "\n",
              "  <div id=\"df-11fe8383-6ab4-4506-9994-c1dd401cf0c8\">\n",
              "    <div class=\"colab-df-container\">\n",
              "      <div>\n",
              "<style scoped>\n",
              "    .dataframe tbody tr th:only-of-type {\n",
              "        vertical-align: middle;\n",
              "    }\n",
              "\n",
              "    .dataframe tbody tr th {\n",
              "        vertical-align: top;\n",
              "    }\n",
              "\n",
              "    .dataframe thead th {\n",
              "        text-align: right;\n",
              "    }\n",
              "</style>\n",
              "<table border=\"1\" class=\"dataframe\">\n",
              "  <thead>\n",
              "    <tr style=\"text-align: right;\">\n",
              "      <th></th>\n",
              "      <th>id</th>\n",
              "      <th>sentence</th>\n",
              "      <th>1category</th>\n",
              "      <th>2category</th>\n",
              "      <th>sentiment</th>\n",
              "      <th>cleaned</th>\n",
              "      <th>length</th>\n",
              "      <th>with not</th>\n",
              "      <th>with ? or !</th>\n",
              "      <th>with \"</th>\n",
              "    </tr>\n",
              "  </thead>\n",
              "  <tbody>\n",
              "    <tr>\n",
              "      <th>0</th>\n",
              "      <td>4754</td>\n",
              "      <td>При этом всегда получал качественные услуги.</td>\n",
              "      <td>Communication</td>\n",
              "      <td>NaN</td>\n",
              "      <td>+</td>\n",
              "      <td>получать качественный услуга</td>\n",
              "      <td>3</td>\n",
              "      <td>0</td>\n",
              "      <td>0</td>\n",
              "      <td>0</td>\n",
              "    </tr>\n",
              "    <tr>\n",
              "      <th>1</th>\n",
              "      <td>4417</td>\n",
              "      <td>Не вижу, за что хотя бы 2 поставить, сервис на 1!</td>\n",
              "      <td>?</td>\n",
              "      <td>NaN</td>\n",
              "      <td>−</td>\n",
              "      <td>не видеть хотя поставить сервис !</td>\n",
              "      <td>6</td>\n",
              "      <td>1</td>\n",
              "      <td>1</td>\n",
              "      <td>0</td>\n",
              "    </tr>\n",
              "    <tr>\n",
              "      <th>2</th>\n",
              "      <td>3629</td>\n",
              "      <td>Вот так \"Мой любимый\" банк МКБ меня обманул.</td>\n",
              "      <td>?</td>\n",
              "      <td>NaN</td>\n",
              "      <td>−</td>\n",
              "      <td>любимый банк мкб обмануть</td>\n",
              "      <td>4</td>\n",
              "      <td>0</td>\n",
              "      <td>0</td>\n",
              "      <td>1</td>\n",
              "    </tr>\n",
              "    <tr>\n",
              "      <th>3</th>\n",
              "      <td>11640</td>\n",
              "      <td>Отвратительное отношение к клиентам.</td>\n",
              "      <td>Communication</td>\n",
              "      <td>NaN</td>\n",
              "      <td>−</td>\n",
              "      <td>отвратительный отношение клиент</td>\n",
              "      <td>3</td>\n",
              "      <td>0</td>\n",
              "      <td>0</td>\n",
              "      <td>0</td>\n",
              "    </tr>\n",
              "    <tr>\n",
              "      <th>4</th>\n",
              "      <td>5571</td>\n",
              "      <td>Всегда в любое время дня и ночи помогут, ответ...</td>\n",
              "      <td>Communication</td>\n",
              "      <td>NaN</td>\n",
              "      <td>+</td>\n",
              "      <td>любой время день ночь помочь ответить решить</td>\n",
              "      <td>7</td>\n",
              "      <td>0</td>\n",
              "      <td>0</td>\n",
              "      <td>0</td>\n",
              "    </tr>\n",
              "  </tbody>\n",
              "</table>\n",
              "</div>\n",
              "      <button class=\"colab-df-convert\" onclick=\"convertToInteractive('df-11fe8383-6ab4-4506-9994-c1dd401cf0c8')\"\n",
              "              title=\"Convert this dataframe to an interactive table.\"\n",
              "              style=\"display:none;\">\n",
              "        \n",
              "  <svg xmlns=\"http://www.w3.org/2000/svg\" height=\"24px\"viewBox=\"0 0 24 24\"\n",
              "       width=\"24px\">\n",
              "    <path d=\"M0 0h24v24H0V0z\" fill=\"none\"/>\n",
              "    <path d=\"M18.56 5.44l.94 2.06.94-2.06 2.06-.94-2.06-.94-.94-2.06-.94 2.06-2.06.94zm-11 1L8.5 8.5l.94-2.06 2.06-.94-2.06-.94L8.5 2.5l-.94 2.06-2.06.94zm10 10l.94 2.06.94-2.06 2.06-.94-2.06-.94-.94-2.06-.94 2.06-2.06.94z\"/><path d=\"M17.41 7.96l-1.37-1.37c-.4-.4-.92-.59-1.43-.59-.52 0-1.04.2-1.43.59L10.3 9.45l-7.72 7.72c-.78.78-.78 2.05 0 2.83L4 21.41c.39.39.9.59 1.41.59.51 0 1.02-.2 1.41-.59l7.78-7.78 2.81-2.81c.8-.78.8-2.07 0-2.86zM5.41 20L4 18.59l7.72-7.72 1.47 1.35L5.41 20z\"/>\n",
              "  </svg>\n",
              "      </button>\n",
              "      \n",
              "  <style>\n",
              "    .colab-df-container {\n",
              "      display:flex;\n",
              "      flex-wrap:wrap;\n",
              "      gap: 12px;\n",
              "    }\n",
              "\n",
              "    .colab-df-convert {\n",
              "      background-color: #E8F0FE;\n",
              "      border: none;\n",
              "      border-radius: 50%;\n",
              "      cursor: pointer;\n",
              "      display: none;\n",
              "      fill: #1967D2;\n",
              "      height: 32px;\n",
              "      padding: 0 0 0 0;\n",
              "      width: 32px;\n",
              "    }\n",
              "\n",
              "    .colab-df-convert:hover {\n",
              "      background-color: #E2EBFA;\n",
              "      box-shadow: 0px 1px 2px rgba(60, 64, 67, 0.3), 0px 1px 3px 1px rgba(60, 64, 67, 0.15);\n",
              "      fill: #174EA6;\n",
              "    }\n",
              "\n",
              "    [theme=dark] .colab-df-convert {\n",
              "      background-color: #3B4455;\n",
              "      fill: #D2E3FC;\n",
              "    }\n",
              "\n",
              "    [theme=dark] .colab-df-convert:hover {\n",
              "      background-color: #434B5C;\n",
              "      box-shadow: 0px 1px 3px 1px rgba(0, 0, 0, 0.15);\n",
              "      filter: drop-shadow(0px 1px 2px rgba(0, 0, 0, 0.3));\n",
              "      fill: #FFFFFF;\n",
              "    }\n",
              "  </style>\n",
              "\n",
              "      <script>\n",
              "        const buttonEl =\n",
              "          document.querySelector('#df-11fe8383-6ab4-4506-9994-c1dd401cf0c8 button.colab-df-convert');\n",
              "        buttonEl.style.display =\n",
              "          google.colab.kernel.accessAllowed ? 'block' : 'none';\n",
              "\n",
              "        async function convertToInteractive(key) {\n",
              "          const element = document.querySelector('#df-11fe8383-6ab4-4506-9994-c1dd401cf0c8');\n",
              "          const dataTable =\n",
              "            await google.colab.kernel.invokeFunction('convertToInteractive',\n",
              "                                                     [key], {});\n",
              "          if (!dataTable) return;\n",
              "\n",
              "          const docLinkHtml = 'Like what you see? Visit the ' +\n",
              "            '<a target=\"_blank\" href=https://colab.research.google.com/notebooks/data_table.ipynb>data table notebook</a>'\n",
              "            + ' to learn more about interactive tables.';\n",
              "          element.innerHTML = '';\n",
              "          dataTable['output_type'] = 'display_data';\n",
              "          await google.colab.output.renderOutput(dataTable, element);\n",
              "          const docLink = document.createElement('div');\n",
              "          docLink.innerHTML = docLinkHtml;\n",
              "          element.appendChild(docLink);\n",
              "        }\n",
              "      </script>\n",
              "    </div>\n",
              "  </div>\n",
              "  "
            ]
          },
          "metadata": {},
          "execution_count": 144
        }
      ]
    },
    {
      "cell_type": "code",
      "source": [
        "df_train.to_csv('df_train_cleaned.csv')"
      ],
      "metadata": {
        "id": "xWYrsz8Xx1Mq"
      },
      "execution_count": 145,
      "outputs": []
    },
    {
      "cell_type": "code",
      "source": [
        "print(max(df_train.length))"
      ],
      "metadata": {
        "colab": {
          "base_uri": "https://localhost:8080/"
        },
        "id": "mLpC4i1TB5XB",
        "outputId": "97a16303-18b9-480d-b9fa-44843d5b1d66"
      },
      "execution_count": 146,
      "outputs": [
        {
          "output_type": "stream",
          "name": "stdout",
          "text": [
            "108\n"
          ]
        }
      ]
    },
    {
      "cell_type": "code",
      "source": [
        "text_tokens = str()\n",
        "for txt in df_train['cleaned'].values:\n",
        "    text_tokens += txt\n",
        "text_tokens = text_tokens.split()\n",
        "text = Text(text_tokens)\n",
        "fdist = FreqDist(text)\n",
        "\n",
        "print(len(fdist))"
      ],
      "metadata": {
        "colab": {
          "base_uri": "https://localhost:8080/"
        },
        "id": "oiEyCzVp6LOI",
        "outputId": "2811fbf6-a28a-4054-f03f-5e22aaf06340"
      },
      "execution_count": 147,
      "outputs": [
        {
          "output_type": "stream",
          "name": "stdout",
          "text": [
            "21331\n"
          ]
        }
      ]
    },
    {
      "cell_type": "code",
      "source": [
        "print(fdist.most_common(25))"
      ],
      "metadata": {
        "colab": {
          "base_uri": "https://localhost:8080/"
        },
        "id": "s1gOfev173Gg",
        "outputId": "5ff2594c-0eae-4a2e-c0ae-69a047aee11d"
      },
      "execution_count": 148,
      "outputs": [
        {
          "output_type": "stream",
          "name": "stdout",
          "text": [
            "[('не', 8264), ('банк', 5940), ('!', 2477), ('всё', 2353), ('сотрудник', 2228), ('клиент', 1948), ('карта', 1904), ('который', 1878), ('свой', 1432), ('очень', 1339), ('мочь', 1251), ('отделение', 1227), ('работа', 1084), ('вопрос', 1002), ('весь', 979), ('ещё', 946), ('просто', 910), ('деньга', 895), ('день', 873), ('работать', 823), ('обслуживание', 750), ('отношение', 738), ('офис', 729), ('время', 714), ('год', 713)]\n"
          ]
        }
      ]
    },
    {
      "cell_type": "code",
      "source": [
        "df_test.head(10)"
      ],
      "metadata": {
        "colab": {
          "base_uri": "https://localhost:8080/",
          "height": 363
        },
        "id": "5t1sUdBflNnG",
        "outputId": "e585677a-3ff9-4c7e-d1aa-d12b4fdaa29b"
      },
      "execution_count": 151,
      "outputs": [
        {
          "output_type": "execute_result",
          "data": {
            "text/plain": [
              "   Unnamed: 0                                              texts  \\\n",
              "0           0  15.03.2022 обратился на горячую линию для закр...   \n",
              "1           1  Уже который год в ТКБ не решается \"глобальная ...   \n",
              "2           2                                        Добрый день   \n",
              "3           3  Добрый день Сегодня, зайдя в свой личный кабин...   \n",
              "4           4  Обслуживаюсь в Тинькофф пару лет, возникла жес...   \n",
              "5           5  В начале месяца прогремела новость о том, что ...   \n",
              "6           6  Оставляю отзыв о работе персонального менеджер...   \n",
              "7           7  После введенных ЦБ ограничений выдача наличных...   \n",
              "8           8  Захожу на сайт ВТБ, вхожу в личный кабинет, но...   \n",
              "9           9  Банк замечательно и быстро выдает кредит- тут ...   \n",
              "\n",
              "                                             cleaned  \n",
              "0  обратиться горячий линия закрытие счёт кредит ...  \n",
              "1  который год ткб не решаться глобальный проблем...  \n",
              "2                                        добрый день  \n",
              "3  добрый день сегодня зайти свой личный кабинет ...  \n",
              "4  обслуживаться тинькофф пара год возникнуть жес...  \n",
              "5  начало месяц прогреметь новость начинать июнь ...  \n",
              "6         оставлять отзыв работа персональный никита  \n",
              "7  ввести цб ограничение выдача наличный доллар о...  \n",
              "8  заходить сайт втб входить личный кабинет не мо...  \n",
              "9  банк замечательный быстро выдавать всё наладит...  "
            ],
            "text/html": [
              "\n",
              "  <div id=\"df-1578b850-3a10-4a2b-9ca8-ac76a01ad20f\">\n",
              "    <div class=\"colab-df-container\">\n",
              "      <div>\n",
              "<style scoped>\n",
              "    .dataframe tbody tr th:only-of-type {\n",
              "        vertical-align: middle;\n",
              "    }\n",
              "\n",
              "    .dataframe tbody tr th {\n",
              "        vertical-align: top;\n",
              "    }\n",
              "\n",
              "    .dataframe thead th {\n",
              "        text-align: right;\n",
              "    }\n",
              "</style>\n",
              "<table border=\"1\" class=\"dataframe\">\n",
              "  <thead>\n",
              "    <tr style=\"text-align: right;\">\n",
              "      <th></th>\n",
              "      <th>Unnamed: 0</th>\n",
              "      <th>texts</th>\n",
              "      <th>cleaned</th>\n",
              "    </tr>\n",
              "  </thead>\n",
              "  <tbody>\n",
              "    <tr>\n",
              "      <th>0</th>\n",
              "      <td>0</td>\n",
              "      <td>15.03.2022 обратился на горячую линию для закр...</td>\n",
              "      <td>обратиться горячий линия закрытие счёт кредит ...</td>\n",
              "    </tr>\n",
              "    <tr>\n",
              "      <th>1</th>\n",
              "      <td>1</td>\n",
              "      <td>Уже который год в ТКБ не решается \"глобальная ...</td>\n",
              "      <td>который год ткб не решаться глобальный проблем...</td>\n",
              "    </tr>\n",
              "    <tr>\n",
              "      <th>2</th>\n",
              "      <td>2</td>\n",
              "      <td>Добрый день</td>\n",
              "      <td>добрый день</td>\n",
              "    </tr>\n",
              "    <tr>\n",
              "      <th>3</th>\n",
              "      <td>3</td>\n",
              "      <td>Добрый день Сегодня, зайдя в свой личный кабин...</td>\n",
              "      <td>добрый день сегодня зайти свой личный кабинет ...</td>\n",
              "    </tr>\n",
              "    <tr>\n",
              "      <th>4</th>\n",
              "      <td>4</td>\n",
              "      <td>Обслуживаюсь в Тинькофф пару лет, возникла жес...</td>\n",
              "      <td>обслуживаться тинькофф пара год возникнуть жес...</td>\n",
              "    </tr>\n",
              "    <tr>\n",
              "      <th>5</th>\n",
              "      <td>5</td>\n",
              "      <td>В начале месяца прогремела новость о том, что ...</td>\n",
              "      <td>начало месяц прогреметь новость начинать июнь ...</td>\n",
              "    </tr>\n",
              "    <tr>\n",
              "      <th>6</th>\n",
              "      <td>6</td>\n",
              "      <td>Оставляю отзыв о работе персонального менеджер...</td>\n",
              "      <td>оставлять отзыв работа персональный никита</td>\n",
              "    </tr>\n",
              "    <tr>\n",
              "      <th>7</th>\n",
              "      <td>7</td>\n",
              "      <td>После введенных ЦБ ограничений выдача наличных...</td>\n",
              "      <td>ввести цб ограничение выдача наличный доллар о...</td>\n",
              "    </tr>\n",
              "    <tr>\n",
              "      <th>8</th>\n",
              "      <td>8</td>\n",
              "      <td>Захожу на сайт ВТБ, вхожу в личный кабинет, но...</td>\n",
              "      <td>заходить сайт втб входить личный кабинет не мо...</td>\n",
              "    </tr>\n",
              "    <tr>\n",
              "      <th>9</th>\n",
              "      <td>9</td>\n",
              "      <td>Банк замечательно и быстро выдает кредит- тут ...</td>\n",
              "      <td>банк замечательный быстро выдавать всё наладит...</td>\n",
              "    </tr>\n",
              "  </tbody>\n",
              "</table>\n",
              "</div>\n",
              "      <button class=\"colab-df-convert\" onclick=\"convertToInteractive('df-1578b850-3a10-4a2b-9ca8-ac76a01ad20f')\"\n",
              "              title=\"Convert this dataframe to an interactive table.\"\n",
              "              style=\"display:none;\">\n",
              "        \n",
              "  <svg xmlns=\"http://www.w3.org/2000/svg\" height=\"24px\"viewBox=\"0 0 24 24\"\n",
              "       width=\"24px\">\n",
              "    <path d=\"M0 0h24v24H0V0z\" fill=\"none\"/>\n",
              "    <path d=\"M18.56 5.44l.94 2.06.94-2.06 2.06-.94-2.06-.94-.94-2.06-.94 2.06-2.06.94zm-11 1L8.5 8.5l.94-2.06 2.06-.94-2.06-.94L8.5 2.5l-.94 2.06-2.06.94zm10 10l.94 2.06.94-2.06 2.06-.94-2.06-.94-.94-2.06-.94 2.06-2.06.94z\"/><path d=\"M17.41 7.96l-1.37-1.37c-.4-.4-.92-.59-1.43-.59-.52 0-1.04.2-1.43.59L10.3 9.45l-7.72 7.72c-.78.78-.78 2.05 0 2.83L4 21.41c.39.39.9.59 1.41.59.51 0 1.02-.2 1.41-.59l7.78-7.78 2.81-2.81c.8-.78.8-2.07 0-2.86zM5.41 20L4 18.59l7.72-7.72 1.47 1.35L5.41 20z\"/>\n",
              "  </svg>\n",
              "      </button>\n",
              "      \n",
              "  <style>\n",
              "    .colab-df-container {\n",
              "      display:flex;\n",
              "      flex-wrap:wrap;\n",
              "      gap: 12px;\n",
              "    }\n",
              "\n",
              "    .colab-df-convert {\n",
              "      background-color: #E8F0FE;\n",
              "      border: none;\n",
              "      border-radius: 50%;\n",
              "      cursor: pointer;\n",
              "      display: none;\n",
              "      fill: #1967D2;\n",
              "      height: 32px;\n",
              "      padding: 0 0 0 0;\n",
              "      width: 32px;\n",
              "    }\n",
              "\n",
              "    .colab-df-convert:hover {\n",
              "      background-color: #E2EBFA;\n",
              "      box-shadow: 0px 1px 2px rgba(60, 64, 67, 0.3), 0px 1px 3px 1px rgba(60, 64, 67, 0.15);\n",
              "      fill: #174EA6;\n",
              "    }\n",
              "\n",
              "    [theme=dark] .colab-df-convert {\n",
              "      background-color: #3B4455;\n",
              "      fill: #D2E3FC;\n",
              "    }\n",
              "\n",
              "    [theme=dark] .colab-df-convert:hover {\n",
              "      background-color: #434B5C;\n",
              "      box-shadow: 0px 1px 3px 1px rgba(0, 0, 0, 0.15);\n",
              "      filter: drop-shadow(0px 1px 2px rgba(0, 0, 0, 0.3));\n",
              "      fill: #FFFFFF;\n",
              "    }\n",
              "  </style>\n",
              "\n",
              "      <script>\n",
              "        const buttonEl =\n",
              "          document.querySelector('#df-1578b850-3a10-4a2b-9ca8-ac76a01ad20f button.colab-df-convert');\n",
              "        buttonEl.style.display =\n",
              "          google.colab.kernel.accessAllowed ? 'block' : 'none';\n",
              "\n",
              "        async function convertToInteractive(key) {\n",
              "          const element = document.querySelector('#df-1578b850-3a10-4a2b-9ca8-ac76a01ad20f');\n",
              "          const dataTable =\n",
              "            await google.colab.kernel.invokeFunction('convertToInteractive',\n",
              "                                                     [key], {});\n",
              "          if (!dataTable) return;\n",
              "\n",
              "          const docLinkHtml = 'Like what you see? Visit the ' +\n",
              "            '<a target=\"_blank\" href=https://colab.research.google.com/notebooks/data_table.ipynb>data table notebook</a>'\n",
              "            + ' to learn more about interactive tables.';\n",
              "          element.innerHTML = '';\n",
              "          dataTable['output_type'] = 'display_data';\n",
              "          await google.colab.output.renderOutput(dataTable, element);\n",
              "          const docLink = document.createElement('div');\n",
              "          docLink.innerHTML = docLinkHtml;\n",
              "          element.appendChild(docLink);\n",
              "        }\n",
              "      </script>\n",
              "    </div>\n",
              "  </div>\n",
              "  "
            ]
          },
          "metadata": {},
          "execution_count": 151
        }
      ]
    },
    {
      "cell_type": "markdown",
      "source": [
        "## Анализ данных\n"
      ],
      "metadata": {
        "id": "VALsaqAlv7X7"
      }
    },
    {
      "cell_type": "code",
      "source": [
        "fig, axs = plt.subplots(nrows=1, ncols=2, figsize=(16, 5))\n",
        "axs[0].hist(df_train['sentiment'], color = 'indianred')\n",
        "#axs[0].set_title('Индикатор типа конвергенции', fontsize=10)\n",
        "axs[1].hist(df_train['1category'], color = 'plum')\n",
        "#axs[1].set_title('Распределение мнений', fontsize=10)\n",
        "plt.show()"
      ],
      "metadata": {
        "colab": {
          "base_uri": "https://localhost:8080/",
          "height": 445
        },
        "id": "G7It4kAujAbY",
        "outputId": "6de8950a-597b-4834-8c7b-49f8a5133274"
      },
      "execution_count": null,
      "outputs": [
        {
          "output_type": "display_data",
          "data": {
            "text/plain": [
              "<Figure size 1600x500 with 2 Axes>"
            ],
            "image/png": "[encoded data removed]"
          },
          "metadata": {}
        }
      ]
    },
    {
      "cell_type": "code",
      "source": [
        "fig = plt.figure(figsize=(10, 5))\n",
        "plt.hist(df_train['length'], bins=np.arange(0, 110, 5), color = 'steelblue')\n",
        "plt.title(\"Распределение кол-ва токенов в обработанных текстах\", fontsize=12)\n",
        "plt.show()"
      ],
      "metadata": {
        "colab": {
          "base_uri": "https://localhost:8080/",
          "height": 468
        },
        "id": "Pjb7PnfpCkl_",
        "outputId": "96567f8a-a9dc-4fd7-f8ce-ece8b6306b52"
      },
      "execution_count": null,
      "outputs": [
        {
          "output_type": "display_data",
          "data": {
            "text/plain": [
              "<Figure size 1000x500 with 1 Axes>"
            ],
            "image/png": "[encoded data removed]"
          },
          "metadata": {}
        }
      ]
    },
    {
      "cell_type": "code",
      "source": [
        "# визуализация по кластерам\n",
        "# визуализация по not/?/!/\"\""
      ],
      "metadata": {
        "id": "9-CdL4H9IMpz"
      },
      "execution_count": null,
      "outputs": []
    },
    {
      "cell_type": "markdown",
      "source": [
        "## Разбиение выборки"
      ],
      "metadata": {
        "id": "CE9tYULDIvdR"
      }
    },
    {
      "cell_type": "code",
      "source": [
        "train_df, valid_df = train_test_split(df_train, test_size=0.2, random_state=42, stratify=df_train['sentiment'])\n",
        "\n",
        "train_texts = train_df['cleaned'].values\n",
        "valid_texts = valid_df['cleaned'].values\n",
        "\n",
        "train_labels = train_df['sentiment'].values\n",
        "valid_labels = valid_df['sentiment'].values"
      ],
      "metadata": {
        "id": "Tzrf0vUSKZev"
      },
      "execution_count": 152,
      "outputs": []
    },
    {
      "cell_type": "code",
      "source": [
        "print('Train', len(train_df))\n",
        "print(train_df.groupby(['sentiment']).count()[['id']], '\\n')\n",
        "\n",
        "print('Validation', len(valid_df))\n",
        "print(valid_df.groupby(['sentiment']).count()[['id']], '\\n')"
      ],
      "metadata": {
        "colab": {
          "base_uri": "https://localhost:8080/"
        },
        "id": "un12hgOpLwpo",
        "outputId": "b673ada1-8ae8-4a44-a5f6-0b8a92fb396b"
      },
      "execution_count": 153,
      "outputs": [
        {
          "output_type": "stream",
          "name": "stdout",
          "text": [
            "Train 15488\n",
            "             id\n",
            "sentiment      \n",
            "+          5009\n",
            "?          2326\n",
            "−          8153 \n",
            "\n",
            "Validation 3873\n",
            "             id\n",
            "sentiment      \n",
            "+          1253\n",
            "?           581\n",
            "−          2039 \n",
            "\n"
          ]
        }
      ]
    },
    {
      "cell_type": "markdown",
      "source": [
        "## Модель"
      ],
      "metadata": {
        "id": "73OwmPG9QsOL"
      }
    },
    {
      "cell_type": "markdown",
      "source": [
        "**CNN**\\\n",
        "https://www.embedded-robotics.com/cnn-for-multi-label-text-classification/"
      ],
      "metadata": {
        "id": "qE84b_Bi2JoE"
      }
    },
    {
      "cell_type": "markdown",
      "source": [
        "### Sentiment"
      ],
      "metadata": {
        "id": "YH3JV3XM1TFn"
      }
    },
    {
      "cell_type": "code",
      "source": [
        "def get_lab(x):\n",
        "    if x == '−':\n",
        "        return 0\n",
        "    elif x == '?':\n",
        "        return 1\n",
        "    elif x == '+':\n",
        "        return 2\n",
        "\n",
        "train_labels_ = train_df['sentiment'].apply(lambda x: get_lab(x)).values\n",
        "valid_labels_ = valid_df['sentiment'].apply(lambda x: get_lab(x)).values"
      ],
      "metadata": {
        "id": "NykfwK8mx0XH"
      },
      "execution_count": 154,
      "outputs": []
    },
    {
      "cell_type": "code",
      "source": [
        "tokenizer = Tokenizer()\n",
        "tokenizer.fit_on_texts(train_texts)\n",
        "\n",
        "word_index = tokenizer.word_index\n",
        "dictionary_size = len(word_index.keys()) + 1"
      ],
      "metadata": {
        "id": "GzjcTavJsml0"
      },
      "execution_count": 155,
      "outputs": []
    },
    {
      "cell_type": "code",
      "source": [
        "train_to_seq = tokenizer.texts_to_sequences(train_texts)\n",
        "valid_to_seq = tokenizer.texts_to_sequences(valid_texts)"
      ],
      "metadata": {
        "id": "vrLyVrqityfn"
      },
      "execution_count": 156,
      "outputs": []
    },
    {
      "cell_type": "code",
      "source": [
        "max_len = max(train_df['length'].values)\n",
        "\n",
        "train_seq_pad = sequence.pad_sequences(train_to_seq, maxlen=max_len)\n",
        "valid_seq_pad = sequence.pad_sequences(valid_to_seq, maxlen=max_len)"
      ],
      "metadata": {
        "id": "gdK4PvhEtzCN"
      },
      "execution_count": 157,
      "outputs": []
    },
    {
      "cell_type": "code",
      "source": [
        "test_texts = df_test['cleaned'].values\n",
        "test_to_seq = tokenizer.texts_to_sequences(test_texts)\n",
        "test_seq_pad = sequence.pad_sequences(test_to_seq, maxlen=max_len)"
      ],
      "metadata": {
        "id": "gzepvn2k5aGK"
      },
      "execution_count": 158,
      "outputs": []
    },
    {
      "cell_type": "code",
      "source": [
        "emb_size=200\n",
        "\n",
        "fasttext_model = fasttext.load_model('rudrec_fasttext_model.bin')\n",
        "\n",
        "embedding_matrix = np.zeros((dictionary_size, emb_size))\n",
        "\n",
        "for word, i in word_index.items():\n",
        "    embedding_vector = fasttext_model.get_word_vector((word))\n",
        "    if (embedding_vector is not None) and len(embedding_vector) > 0:\n",
        "        embedding_matrix[i] = embedding_vector"
      ],
      "metadata": {
        "id": "MTGTYj5It8XZ"
      },
      "execution_count": 159,
      "outputs": []
    },
    {
      "cell_type": "markdown",
      "source": [
        "#### Основная попытка"
      ],
      "metadata": {
        "id": "fpkjGEEd9DEv"
      }
    },
    {
      "cell_type": "code",
      "source": [
        "class CNN_for_text(Model):\n",
        "\n",
        "    def __init__(self, maxlen, max_features, \n",
        "                 embedding_dims, embedding_weights,\n",
        "                 kernel_sizes=[3, 4, 5], \n",
        "                 class_num=1, last_activation='sigmoid',):\n",
        "        super(CNN_for_text, self).__init__()\n",
        "        self.maxlen = maxlen\n",
        "        self.max_features = max_features\n",
        "        self.embedding_dims = embedding_dims\n",
        "        self.kernel_sizes = kernel_sizes\n",
        "        self.class_num = class_num\n",
        "        self.last_activation = last_activation\n",
        "        self.embedding = Embedding(self.max_features, self.embedding_dims, input_length=self.maxlen, weights=[embedding_weights], )\n",
        "        self.convs = []\n",
        "        self.max_poolings = []\n",
        "        for kernel_size in self.kernel_sizes:\n",
        "            self.convs.append(Conv1D(128, kernel_size, activation='relu'))\n",
        "            self.max_poolings.append(GlobalMaxPooling1D())\n",
        "        self.classifier = Dense(self.class_num, activation=self.last_activation)\n",
        "\n",
        "    def call(self, inputs):\n",
        "        embedding = self.embedding(inputs)\n",
        "        convs = []\n",
        "        for i in range(len(self.kernel_sizes)):\n",
        "            c = self.convs[i](embedding)\n",
        "            c = self.max_poolings[i](c)\n",
        "            convs.append(c)\n",
        "        x = Concatenate()(convs)\n",
        "        output = self.classifier(x)\n",
        "        return output"
      ],
      "metadata": {
        "id": "SbxxtY-4QrDo"
      },
      "execution_count": 160,
      "outputs": []
    },
    {
      "cell_type": "code",
      "source": [
        "model = CNN_for_text(maxlen=max_len, max_features=dictionary_size, \n",
        "                embedding_dims=emb_size, embedding_weights=embedding_matrix, \n",
        "                class_num=3, last_activation='softmax')\n",
        "\n",
        "model.compile(loss='sparse_categorical_crossentropy', optimizer='adam', metrics=['accuracy'])\n",
        "\n",
        "early_stopping = EarlyStopping(monitor='val_accuracy', patience=5 , mode='max', restore_best_weights=True)\n",
        "\n",
        "model_hist = model.fit(train_seq_pad, train_labels_,\n",
        "        batch_size=128,\n",
        "        epochs=10,\n",
        "        callbacks=[early_stopping, ],\n",
        "        validation_data=(valid_seq_pad, valid_labels_))"
      ],
      "metadata": {
        "id": "TNRkcREFoHZS",
        "colab": {
          "base_uri": "https://localhost:8080/"
        },
        "outputId": "f63892c0-d1d5-42ae-f013-805b5e2dc3c4"
      },
      "execution_count": 161,
      "outputs": [
        {
          "output_type": "stream",
          "name": "stdout",
          "text": [
            "Epoch 1/10\n",
            "121/121 [==============================] - 105s 861ms/step - loss: 0.5261 - accuracy: 0.7993 - val_loss: 0.4227 - val_accuracy: 0.8433\n",
            "Epoch 2/10\n",
            "121/121 [==============================] - 104s 859ms/step - loss: 0.3039 - accuracy: 0.8936 - val_loss: 0.3700 - val_accuracy: 0.8763\n",
            "Epoch 3/10\n",
            "121/121 [==============================] - 137s 1s/step - loss: 0.2338 - accuracy: 0.9112 - val_loss: 0.3852 - val_accuracy: 0.8704\n",
            "Epoch 4/10\n",
            "121/121 [==============================] - 115s 957ms/step - loss: 0.2107 - accuracy: 0.9150 - val_loss: 0.3920 - val_accuracy: 0.8768\n",
            "Epoch 5/10\n",
            "121/121 [==============================] - 108s 884ms/step - loss: 0.1990 - accuracy: 0.9154 - val_loss: 0.4002 - val_accuracy: 0.8750\n",
            "Epoch 6/10\n",
            "121/121 [==============================] - 113s 930ms/step - loss: 0.1889 - accuracy: 0.9130 - val_loss: 0.4201 - val_accuracy: 0.8704\n",
            "Epoch 7/10\n",
            "121/121 [==============================] - 110s 914ms/step - loss: 0.1858 - accuracy: 0.9143 - val_loss: 0.4267 - val_accuracy: 0.8727\n",
            "Epoch 8/10\n",
            "121/121 [==============================] - 128s 1s/step - loss: 0.1831 - accuracy: 0.9148 - val_loss: 0.4600 - val_accuracy: 0.8758\n",
            "Epoch 9/10\n",
            "121/121 [==============================] - 133s 1s/step - loss: 0.1767 - accuracy: 0.9178 - val_loss: 0.4453 - val_accuracy: 0.8750\n"
          ]
        }
      ]
    },
    {
      "cell_type": "code",
      "source": [
        "predicted_valid_prob = model.predict(valid_seq_pad)\n",
        "\n",
        "valid_df['prob_neg'] = predicted_valid_prob[:, 0]\n",
        "valid_df['prob_neutr'] = predicted_valid_prob[:, 1]\n",
        "valid_df['prob_pos'] = predicted_valid_prob[:, 2]"
      ],
      "metadata": {
        "colab": {
          "base_uri": "https://localhost:8080/"
        },
        "id": "XL_Z5BiclcGk",
        "outputId": "061a2767-5567-4f5e-f2df-97128676bf65"
      },
      "execution_count": 162,
      "outputs": [
        {
          "output_type": "stream",
          "name": "stdout",
          "text": [
            "122/122 [==============================] - 9s 73ms/step\n"
          ]
        }
      ]
    },
    {
      "cell_type": "code",
      "source": [
        "valid_df[['sentence', 'sentiment', 'prob_neg', 'prob_neutr', 'prob_pos']].head(10)"
      ],
      "metadata": {
        "colab": {
          "base_uri": "https://localhost:8080/",
          "height": 363
        },
        "id": "8Jk4pFRvqXdV",
        "outputId": "dd8e01a8-b057-4470-b2fc-a0cfe63b3be1"
      },
      "execution_count": 163,
      "outputs": [
        {
          "output_type": "execute_result",
          "data": {
            "text/plain": [
              "                                                sentence sentiment  prob_neg  \\\n",
              "9697   Помимо того, что слетела возможность входить в...         −  0.993677   \n",
              "656    Бывает и такое, дебетовую уже терял, поэтому з...         −  0.997930   \n",
              "7688                 Очень доволен такой оперативностью.         +  0.000148   \n",
              "2779             !вообще не занимаются такими вопросами!         ?  0.931112   \n",
              "18004    Спасибо Сберу за качество обслуживание клиента.         +  0.027006   \n",
              "7768   Мне сказали, что \"обращения в электронном виде...         −  0.993124   \n",
              "15899  За профессионализм, терпение, инициативность, ...         +  0.002036   \n",
              "6443   Но к сожалению в банке отказали и не приняли д...         −  0.863371   \n",
              "14854  Служба поддержки клиентов МТС Банка даже не вн...         −  0.945329   \n",
              "9715   Пользуюсь расчетной картой банка для обмена ва...         +  0.015141   \n",
              "\n",
              "       prob_neutr  prob_pos  \n",
              "9697     0.003418  0.002904  \n",
              "656      0.001714  0.000356  \n",
              "7688     0.014784  0.985068  \n",
              "2779     0.061276  0.007612  \n",
              "18004    0.004954  0.968040  \n",
              "7768     0.005797  0.001079  \n",
              "15899    0.001957  0.996007  \n",
              "6443     0.134696  0.001933  \n",
              "14854    0.024240  0.030431  \n",
              "9715     0.052951  0.931908  "
            ],
            "text/html": [
              "\n",
              "  <div id=\"df-a3a4a483-8ac8-4481-9a0f-45505e1bd0f1\">\n",
              "    <div class=\"colab-df-container\">\n",
              "      <div>\n",
              "<style scoped>\n",
              "    .dataframe tbody tr th:only-of-type {\n",
              "        vertical-align: middle;\n",
              "    }\n",
              "\n",
              "    .dataframe tbody tr th {\n",
              "        vertical-align: top;\n",
              "    }\n",
              "\n",
              "    .dataframe thead th {\n",
              "        text-align: right;\n",
              "    }\n",
              "</style>\n",
              "<table border=\"1\" class=\"dataframe\">\n",
              "  <thead>\n",
              "    <tr style=\"text-align: right;\">\n",
              "      <th></th>\n",
              "      <th>sentence</th>\n",
              "      <th>sentiment</th>\n",
              "      <th>prob_neg</th>\n",
              "      <th>prob_neutr</th>\n",
              "      <th>prob_pos</th>\n",
              "    </tr>\n",
              "  </thead>\n",
              "  <tbody>\n",
              "    <tr>\n",
              "      <th>9697</th>\n",
              "      <td>Помимо того, что слетела возможность входить в...</td>\n",
              "      <td>−</td>\n",
              "      <td>0.993677</td>\n",
              "      <td>0.003418</td>\n",
              "      <td>0.002904</td>\n",
              "    </tr>\n",
              "    <tr>\n",
              "      <th>656</th>\n",
              "      <td>Бывает и такое, дебетовую уже терял, поэтому з...</td>\n",
              "      <td>−</td>\n",
              "      <td>0.997930</td>\n",
              "      <td>0.001714</td>\n",
              "      <td>0.000356</td>\n",
              "    </tr>\n",
              "    <tr>\n",
              "      <th>7688</th>\n",
              "      <td>Очень доволен такой оперативностью.</td>\n",
              "      <td>+</td>\n",
              "      <td>0.000148</td>\n",
              "      <td>0.014784</td>\n",
              "      <td>0.985068</td>\n",
              "    </tr>\n",
              "    <tr>\n",
              "      <th>2779</th>\n",
              "      <td>!вообще не занимаются такими вопросами!</td>\n",
              "      <td>?</td>\n",
              "      <td>0.931112</td>\n",
              "      <td>0.061276</td>\n",
              "      <td>0.007612</td>\n",
              "    </tr>\n",
              "    <tr>\n",
              "      <th>18004</th>\n",
              "      <td>Спасибо Сберу за качество обслуживание клиента.</td>\n",
              "      <td>+</td>\n",
              "      <td>0.027006</td>\n",
              "      <td>0.004954</td>\n",
              "      <td>0.968040</td>\n",
              "    </tr>\n",
              "    <tr>\n",
              "      <th>7768</th>\n",
              "      <td>Мне сказали, что \"обращения в электронном виде...</td>\n",
              "      <td>−</td>\n",
              "      <td>0.993124</td>\n",
              "      <td>0.005797</td>\n",
              "      <td>0.001079</td>\n",
              "    </tr>\n",
              "    <tr>\n",
              "      <th>15899</th>\n",
              "      <td>За профессионализм, терпение, инициативность, ...</td>\n",
              "      <td>+</td>\n",
              "      <td>0.002036</td>\n",
              "      <td>0.001957</td>\n",
              "      <td>0.996007</td>\n",
              "    </tr>\n",
              "    <tr>\n",
              "      <th>6443</th>\n",
              "      <td>Но к сожалению в банке отказали и не приняли д...</td>\n",
              "      <td>−</td>\n",
              "      <td>0.863371</td>\n",
              "      <td>0.134696</td>\n",
              "      <td>0.001933</td>\n",
              "    </tr>\n",
              "    <tr>\n",
              "      <th>14854</th>\n",
              "      <td>Служба поддержки клиентов МТС Банка даже не вн...</td>\n",
              "      <td>−</td>\n",
              "      <td>0.945329</td>\n",
              "      <td>0.024240</td>\n",
              "      <td>0.030431</td>\n",
              "    </tr>\n",
              "    <tr>\n",
              "      <th>9715</th>\n",
              "      <td>Пользуюсь расчетной картой банка для обмена ва...</td>\n",
              "      <td>+</td>\n",
              "      <td>0.015141</td>\n",
              "      <td>0.052951</td>\n",
              "      <td>0.931908</td>\n",
              "    </tr>\n",
              "  </tbody>\n",
              "</table>\n",
              "</div>\n",
              "      <button class=\"colab-df-convert\" onclick=\"convertToInteractive('df-a3a4a483-8ac8-4481-9a0f-45505e1bd0f1')\"\n",
              "              title=\"Convert this dataframe to an interactive table.\"\n",
              "              style=\"display:none;\">\n",
              "        \n",
              "  <svg xmlns=\"http://www.w3.org/2000/svg\" height=\"24px\"viewBox=\"0 0 24 24\"\n",
              "       width=\"24px\">\n",
              "    <path d=\"M0 0h24v24H0V0z\" fill=\"none\"/>\n",
              "    <path d=\"M18.56 5.44l.94 2.06.94-2.06 2.06-.94-2.06-.94-.94-2.06-.94 2.06-2.06.94zm-11 1L8.5 8.5l.94-2.06 2.06-.94-2.06-.94L8.5 2.5l-.94 2.06-2.06.94zm10 10l.94 2.06.94-2.06 2.06-.94-2.06-.94-.94-2.06-.94 2.06-2.06.94z\"/><path d=\"M17.41 7.96l-1.37-1.37c-.4-.4-.92-.59-1.43-.59-.52 0-1.04.2-1.43.59L10.3 9.45l-7.72 7.72c-.78.78-.78 2.05 0 2.83L4 21.41c.39.39.9.59 1.41.59.51 0 1.02-.2 1.41-.59l7.78-7.78 2.81-2.81c.8-.78.8-2.07 0-2.86zM5.41 20L4 18.59l7.72-7.72 1.47 1.35L5.41 20z\"/>\n",
              "  </svg>\n",
              "      </button>\n",
              "      \n",
              "  <style>\n",
              "    .colab-df-container {\n",
              "      display:flex;\n",
              "      flex-wrap:wrap;\n",
              "      gap: 12px;\n",
              "    }\n",
              "\n",
              "    .colab-df-convert {\n",
              "      background-color: #E8F0FE;\n",
              "      border: none;\n",
              "      border-radius: 50%;\n",
              "      cursor: pointer;\n",
              "      display: none;\n",
              "      fill: #1967D2;\n",
              "      height: 32px;\n",
              "      padding: 0 0 0 0;\n",
              "      width: 32px;\n",
              "    }\n",
              "\n",
              "    .colab-df-convert:hover {\n",
              "      background-color: #E2EBFA;\n",
              "      box-shadow: 0px 1px 2px rgba(60, 64, 67, 0.3), 0px 1px 3px 1px rgba(60, 64, 67, 0.15);\n",
              "      fill: #174EA6;\n",
              "    }\n",
              "\n",
              "    [theme=dark] .colab-df-convert {\n",
              "      background-color: #3B4455;\n",
              "      fill: #D2E3FC;\n",
              "    }\n",
              "\n",
              "    [theme=dark] .colab-df-convert:hover {\n",
              "      background-color: #434B5C;\n",
              "      box-shadow: 0px 1px 3px 1px rgba(0, 0, 0, 0.15);\n",
              "      filter: drop-shadow(0px 1px 2px rgba(0, 0, 0, 0.3));\n",
              "      fill: #FFFFFF;\n",
              "    }\n",
              "  </style>\n",
              "\n",
              "      <script>\n",
              "        const buttonEl =\n",
              "          document.querySelector('#df-a3a4a483-8ac8-4481-9a0f-45505e1bd0f1 button.colab-df-convert');\n",
              "        buttonEl.style.display =\n",
              "          google.colab.kernel.accessAllowed ? 'block' : 'none';\n",
              "\n",
              "        async function convertToInteractive(key) {\n",
              "          const element = document.querySelector('#df-a3a4a483-8ac8-4481-9a0f-45505e1bd0f1');\n",
              "          const dataTable =\n",
              "            await google.colab.kernel.invokeFunction('convertToInteractive',\n",
              "                                                     [key], {});\n",
              "          if (!dataTable) return;\n",
              "\n",
              "          const docLinkHtml = 'Like what you see? Visit the ' +\n",
              "            '<a target=\"_blank\" href=https://colab.research.google.com/notebooks/data_table.ipynb>data table notebook</a>'\n",
              "            + ' to learn more about interactive tables.';\n",
              "          element.innerHTML = '';\n",
              "          dataTable['output_type'] = 'display_data';\n",
              "          await google.colab.output.renderOutput(dataTable, element);\n",
              "          const docLink = document.createElement('div');\n",
              "          docLink.innerHTML = docLinkHtml;\n",
              "          element.appendChild(docLink);\n",
              "        }\n",
              "      </script>\n",
              "    </div>\n",
              "  </div>\n",
              "  "
            ]
          },
          "metadata": {},
          "execution_count": 163
        }
      ]
    },
    {
      "cell_type": "code",
      "source": [
        "roc_auc_neg = roc_auc_score(valid_df['sentiment'].apply(lambda x: 1 if x == '−' else 0).values, valid_df['prob_neg'])\n",
        "roc_auc_neutr = roc_auc_score(valid_df['sentiment'].apply(lambda x: 1 if x == '?' else 0).values, valid_df['prob_neutr'])\n",
        "roc_auc_pos = roc_auc_score(valid_df['sentiment'].apply(lambda x: 1 if x == '+' else 0).values, valid_df['prob_pos'])\n",
        "\n",
        "print(f'ROC-AUC for negative = {round(roc_auc_neg, 5)}')\n",
        "print(f'ROC-AUC for neutral = {round(roc_auc_neutr, 5)}')\n",
        "print(f'ROC-AUC for positive = {round(roc_auc_pos, 5)}', '\\n')\n",
        "\n",
        "roc_auc_all = roc_auc_score(valid_labels_, predicted_valid_prob, multi_class='ovr')\n",
        "print(f'ROC-AUC по 3 классам = {round(roc_auc_all, 5)}')"
      ],
      "metadata": {
        "colab": {
          "base_uri": "https://localhost:8080/"
        },
        "id": "YcwJsQQ1rIx2",
        "outputId": "f163354e-1847-465e-e8b5-fce11131a5cb"
      },
      "execution_count": 164,
      "outputs": [
        {
          "output_type": "stream",
          "name": "stdout",
          "text": [
            "ROC-AUC for negative = 0.97077\n",
            "ROC-AUC for neutral = 0.89193\n",
            "ROC-AUC for positive = 0.9729 \n",
            "\n",
            "ROC-AUC по 3 классам = 0.9452\n"
          ]
        }
      ]
    },
    {
      "cell_type": "code",
      "source": [
        "predicted_test_prob = model.predict(test_seq_pad)\n",
        "\n",
        "df_test['prob_neg'] = predicted_test_prob[:, 0]\n",
        "df_test['prob_neutr'] = predicted_test_prob[:, 1]\n",
        "df_test['prob_pos'] = predicted_test_prob[:, 2]"
      ],
      "metadata": {
        "colab": {
          "base_uri": "https://localhost:8080/"
        },
        "id": "QpSM24wnlbgz",
        "outputId": "efebbbe4-8550-4673-eb9d-cf0d8f74186d"
      },
      "execution_count": 165,
      "outputs": [
        {
          "output_type": "stream",
          "name": "stdout",
          "text": [
            "30/30 [==============================] - 3s 105ms/step\n"
          ]
        }
      ]
    },
    {
      "cell_type": "code",
      "source": [
        "df_test.head(10)"
      ],
      "metadata": {
        "colab": {
          "base_uri": "https://localhost:8080/",
          "height": 363
        },
        "id": "3zQ1gVJTr93q",
        "outputId": "374be1ad-f7c6-4ae7-99ac-e66394e5f106"
      },
      "execution_count": 166,
      "outputs": [
        {
          "output_type": "execute_result",
          "data": {
            "text/plain": [
              "   Unnamed: 0                                              texts  \\\n",
              "0           0  15.03.2022 обратился на горячую линию для закр...   \n",
              "1           1  Уже который год в ТКБ не решается \"глобальная ...   \n",
              "2           2                                        Добрый день   \n",
              "3           3  Добрый день Сегодня, зайдя в свой личный кабин...   \n",
              "4           4  Обслуживаюсь в Тинькофф пару лет, возникла жес...   \n",
              "5           5  В начале месяца прогремела новость о том, что ...   \n",
              "6           6  Оставляю отзыв о работе персонального менеджер...   \n",
              "7           7  После введенных ЦБ ограничений выдача наличных...   \n",
              "8           8  Захожу на сайт ВТБ, вхожу в личный кабинет, но...   \n",
              "9           9  Банк замечательно и быстро выдает кредит- тут ...   \n",
              "\n",
              "                                             cleaned  prob_neg  prob_neutr  \\\n",
              "0  обратиться горячий линия закрытие счёт кредит ...  0.566648    0.219906   \n",
              "1  который год ткб не решаться глобальный проблем...  0.647769    0.118315   \n",
              "2                                        добрый день  0.028058    0.889592   \n",
              "3  добрый день сегодня зайти свой личный кабинет ...  0.963467    0.031782   \n",
              "4  обслуживаться тинькофф пара год возникнуть жес...  0.001652    0.032604   \n",
              "5  начало месяц прогреметь новость начинать июнь ...  0.628395    0.336369   \n",
              "6         оставлять отзыв работа персональный никита  0.335195    0.099893   \n",
              "7  ввести цб ограничение выдача наличный доллар о...  0.602366    0.365828   \n",
              "8  заходить сайт втб входить личный кабинет не мо...  0.935252    0.056716   \n",
              "9  банк замечательный быстро выдавать всё наладит...  0.374629    0.156447   \n",
              "\n",
              "   prob_pos  \n",
              "0  0.213446  \n",
              "1  0.233916  \n",
              "2  0.082350  \n",
              "3  0.004751  \n",
              "4  0.965743  \n",
              "5  0.035236  \n",
              "6  0.564912  \n",
              "7  0.031806  \n",
              "8  0.008032  \n",
              "9  0.468924  "
            ],
            "text/html": [
              "\n",
              "  <div id=\"df-69d38d1b-25d7-48ee-9984-822c9a188f62\">\n",
              "    <div class=\"colab-df-container\">\n",
              "      <div>\n",
              "<style scoped>\n",
              "    .dataframe tbody tr th:only-of-type {\n",
              "        vertical-align: middle;\n",
              "    }\n",
              "\n",
              "    .dataframe tbody tr th {\n",
              "        vertical-align: top;\n",
              "    }\n",
              "\n",
              "    .dataframe thead th {\n",
              "        text-align: right;\n",
              "    }\n",
              "</style>\n",
              "<table border=\"1\" class=\"dataframe\">\n",
              "  <thead>\n",
              "    <tr style=\"text-align: right;\">\n",
              "      <th></th>\n",
              "      <th>Unnamed: 0</th>\n",
              "      <th>texts</th>\n",
              "      <th>cleaned</th>\n",
              "      <th>prob_neg</th>\n",
              "      <th>prob_neutr</th>\n",
              "      <th>prob_pos</th>\n",
              "    </tr>\n",
              "  </thead>\n",
              "  <tbody>\n",
              "    <tr>\n",
              "      <th>0</th>\n",
              "      <td>0</td>\n",
              "      <td>15.03.2022 обратился на горячую линию для закр...</td>\n",
              "      <td>обратиться горячий линия закрытие счёт кредит ...</td>\n",
              "      <td>0.566648</td>\n",
              "      <td>0.219906</td>\n",
              "      <td>0.213446</td>\n",
              "    </tr>\n",
              "    <tr>\n",
              "      <th>1</th>\n",
              "      <td>1</td>\n",
              "      <td>Уже который год в ТКБ не решается \"глобальная ...</td>\n",
              "      <td>который год ткб не решаться глобальный проблем...</td>\n",
              "      <td>0.647769</td>\n",
              "      <td>0.118315</td>\n",
              "      <td>0.233916</td>\n",
              "    </tr>\n",
              "    <tr>\n",
              "      <th>2</th>\n",
              "      <td>2</td>\n",
              "      <td>Добрый день</td>\n",
              "      <td>добрый день</td>\n",
              "      <td>0.028058</td>\n",
              "      <td>0.889592</td>\n",
              "      <td>0.082350</td>\n",
              "    </tr>\n",
              "    <tr>\n",
              "      <th>3</th>\n",
              "      <td>3</td>\n",
              "      <td>Добрый день Сегодня, зайдя в свой личный кабин...</td>\n",
              "      <td>добрый день сегодня зайти свой личный кабинет ...</td>\n",
              "      <td>0.963467</td>\n",
              "      <td>0.031782</td>\n",
              "      <td>0.004751</td>\n",
              "    </tr>\n",
              "    <tr>\n",
              "      <th>4</th>\n",
              "      <td>4</td>\n",
              "      <td>Обслуживаюсь в Тинькофф пару лет, возникла жес...</td>\n",
              "      <td>обслуживаться тинькофф пара год возникнуть жес...</td>\n",
              "      <td>0.001652</td>\n",
              "      <td>0.032604</td>\n",
              "      <td>0.965743</td>\n",
              "    </tr>\n",
              "    <tr>\n",
              "      <th>5</th>\n",
              "      <td>5</td>\n",
              "      <td>В начале месяца прогремела новость о том, что ...</td>\n",
              "      <td>начало месяц прогреметь новость начинать июнь ...</td>\n",
              "      <td>0.628395</td>\n",
              "      <td>0.336369</td>\n",
              "      <td>0.035236</td>\n",
              "    </tr>\n",
              "    <tr>\n",
              "      <th>6</th>\n",
              "      <td>6</td>\n",
              "      <td>Оставляю отзыв о работе персонального менеджер...</td>\n",
              "      <td>оставлять отзыв работа персональный никита</td>\n",
              "      <td>0.335195</td>\n",
              "      <td>0.099893</td>\n",
              "      <td>0.564912</td>\n",
              "    </tr>\n",
              "    <tr>\n",
              "      <th>7</th>\n",
              "      <td>7</td>\n",
              "      <td>После введенных ЦБ ограничений выдача наличных...</td>\n",
              "      <td>ввести цб ограничение выдача наличный доллар о...</td>\n",
              "      <td>0.602366</td>\n",
              "      <td>0.365828</td>\n",
              "      <td>0.031806</td>\n",
              "    </tr>\n",
              "    <tr>\n",
              "      <th>8</th>\n",
              "      <td>8</td>\n",
              "      <td>Захожу на сайт ВТБ, вхожу в личный кабинет, но...</td>\n",
              "      <td>заходить сайт втб входить личный кабинет не мо...</td>\n",
              "      <td>0.935252</td>\n",
              "      <td>0.056716</td>\n",
              "      <td>0.008032</td>\n",
              "    </tr>\n",
              "    <tr>\n",
              "      <th>9</th>\n",
              "      <td>9</td>\n",
              "      <td>Банк замечательно и быстро выдает кредит- тут ...</td>\n",
              "      <td>банк замечательный быстро выдавать всё наладит...</td>\n",
              "      <td>0.374629</td>\n",
              "      <td>0.156447</td>\n",
              "      <td>0.468924</td>\n",
              "    </tr>\n",
              "  </tbody>\n",
              "</table>\n",
              "</div>\n",
              "      <button class=\"colab-df-convert\" onclick=\"convertToInteractive('df-69d38d1b-25d7-48ee-9984-822c9a188f62')\"\n",
              "              title=\"Convert this dataframe to an interactive table.\"\n",
              "              style=\"display:none;\">\n",
              "        \n",
              "  <svg xmlns=\"http://www.w3.org/2000/svg\" height=\"24px\"viewBox=\"0 0 24 24\"\n",
              "       width=\"24px\">\n",
              "    <path d=\"M0 0h24v24H0V0z\" fill=\"none\"/>\n",
              "    <path d=\"M18.56 5.44l.94 2.06.94-2.06 2.06-.94-2.06-.94-.94-2.06-.94 2.06-2.06.94zm-11 1L8.5 8.5l.94-2.06 2.06-.94-2.06-.94L8.5 2.5l-.94 2.06-2.06.94zm10 10l.94 2.06.94-2.06 2.06-.94-2.06-.94-.94-2.06-.94 2.06-2.06.94z\"/><path d=\"M17.41 7.96l-1.37-1.37c-.4-.4-.92-.59-1.43-.59-.52 0-1.04.2-1.43.59L10.3 9.45l-7.72 7.72c-.78.78-.78 2.05 0 2.83L4 21.41c.39.39.9.59 1.41.59.51 0 1.02-.2 1.41-.59l7.78-7.78 2.81-2.81c.8-.78.8-2.07 0-2.86zM5.41 20L4 18.59l7.72-7.72 1.47 1.35L5.41 20z\"/>\n",
              "  </svg>\n",
              "      </button>\n",
              "      \n",
              "  <style>\n",
              "    .colab-df-container {\n",
              "      display:flex;\n",
              "      flex-wrap:wrap;\n",
              "      gap: 12px;\n",
              "    }\n",
              "\n",
              "    .colab-df-convert {\n",
              "      background-color: #E8F0FE;\n",
              "      border: none;\n",
              "      border-radius: 50%;\n",
              "      cursor: pointer;\n",
              "      display: none;\n",
              "      fill: #1967D2;\n",
              "      height: 32px;\n",
              "      padding: 0 0 0 0;\n",
              "      width: 32px;\n",
              "    }\n",
              "\n",
              "    .colab-df-convert:hover {\n",
              "      background-color: #E2EBFA;\n",
              "      box-shadow: 0px 1px 2px rgba(60, 64, 67, 0.3), 0px 1px 3px 1px rgba(60, 64, 67, 0.15);\n",
              "      fill: #174EA6;\n",
              "    }\n",
              "\n",
              "    [theme=dark] .colab-df-convert {\n",
              "      background-color: #3B4455;\n",
              "      fill: #D2E3FC;\n",
              "    }\n",
              "\n",
              "    [theme=dark] .colab-df-convert:hover {\n",
              "      background-color: #434B5C;\n",
              "      box-shadow: 0px 1px 3px 1px rgba(0, 0, 0, 0.15);\n",
              "      filter: drop-shadow(0px 1px 2px rgba(0, 0, 0, 0.3));\n",
              "      fill: #FFFFFF;\n",
              "    }\n",
              "  </style>\n",
              "\n",
              "      <script>\n",
              "        const buttonEl =\n",
              "          document.querySelector('#df-69d38d1b-25d7-48ee-9984-822c9a188f62 button.colab-df-convert');\n",
              "        buttonEl.style.display =\n",
              "          google.colab.kernel.accessAllowed ? 'block' : 'none';\n",
              "\n",
              "        async function convertToInteractive(key) {\n",
              "          const element = document.querySelector('#df-69d38d1b-25d7-48ee-9984-822c9a188f62');\n",
              "          const dataTable =\n",
              "            await google.colab.kernel.invokeFunction('convertToInteractive',\n",
              "                                                     [key], {});\n",
              "          if (!dataTable) return;\n",
              "\n",
              "          const docLinkHtml = 'Like what you see? Visit the ' +\n",
              "            '<a target=\"_blank\" href=https://colab.research.google.com/notebooks/data_table.ipynb>data table notebook</a>'\n",
              "            + ' to learn more about interactive tables.';\n",
              "          element.innerHTML = '';\n",
              "          dataTable['output_type'] = 'display_data';\n",
              "          await google.colab.output.renderOutput(dataTable, element);\n",
              "          const docLink = document.createElement('div');\n",
              "          docLink.innerHTML = docLinkHtml;\n",
              "          element.appendChild(docLink);\n",
              "        }\n",
              "      </script>\n",
              "    </div>\n",
              "  </div>\n",
              "  "
            ]
          },
          "metadata": {},
          "execution_count": 166
        }
      ]
    },
    {
      "cell_type": "code",
      "source": [
        "df_test_final = pd.DataFrame(columns = df_ex.columns)\n",
        "df_test_final['Unnamed: 0'] = df_test['Unnamed: 0']\n",
        "df_test_final['texts'] = df_test['texts']\n",
        "df_test_final[\"+\"] = df_test['prob_pos']\n",
        "df_test_final[\"-\"] = df_test['prob_neg']\n",
        "df_test_final[\"?\"] = df_test['prob_neutr']\n",
        "\n",
        "print(df_test_final.head(5))\n",
        "\n",
        "df_test_final.to_csv('test_FINAL.csv')"
      ],
      "metadata": {
        "colab": {
          "base_uri": "https://localhost:8080/"
        },
        "id": "z43Qq2Ip6E9a",
        "outputId": "0c1a15a2-0612-4bbb-a254-dda4643d88a8"
      },
      "execution_count": 167,
      "outputs": [
        {
          "output_type": "stream",
          "name": "stdout",
          "text": [
            "   Unnamed: 0                                              texts         +  \\\n",
            "0           0  15.03.2022 обратился на горячую линию для закр...  0.213446   \n",
            "1           1  Уже который год в ТКБ не решается \"глобальная ...  0.233916   \n",
            "2           2                                        Добрый день  0.082350   \n",
            "3           3  Добрый день Сегодня, зайдя в свой личный кабин...  0.004751   \n",
            "4           4  Обслуживаюсь в Тинькофф пару лет, возникла жес...  0.965743   \n",
            "\n",
            "          -         ? communication quality price safety second_category  \n",
            "0  0.566648  0.219906           NaN     NaN   NaN    NaN             NaN  \n",
            "1  0.647769  0.118315           NaN     NaN   NaN    NaN             NaN  \n",
            "2  0.028058  0.889592           NaN     NaN   NaN    NaN             NaN  \n",
            "3  0.963467  0.031782           NaN     NaN   NaN    NaN             NaN  \n",
            "4  0.001652  0.032604           NaN     NaN   NaN    NaN             NaN  \n"
          ]
        }
      ]
    },
    {
      "cell_type": "markdown",
      "source": [
        "### Категории"
      ],
      "metadata": {
        "id": "S-8L8xl705yJ"
      }
    },
    {
      "cell_type": "code",
      "source": [
        "df_train_cat = pd.read_csv('df_train_cleaned.csv')\n",
        "df_train_cat = df_train_cat[df_train_cat['1category'] != '?'] # удаляем непонятную категорию"
      ],
      "metadata": {
        "id": "9mrqwNoF1zXW"
      },
      "execution_count": 97,
      "outputs": []
    },
    {
      "cell_type": "code",
      "source": [
        "def get_lab_cat(x):\n",
        "    if x == 'Communication':\n",
        "        return 0\n",
        "    elif x == 'Quality':\n",
        "        return 1\n",
        "    elif x == 'Price':\n",
        "        return 2\n",
        "    elif x == 'Safety':\n",
        "        return 3\n",
        "\n",
        "train_df_cat, valid_df_cat = train_test_split(df_train_cat, test_size=0.15, random_state=42, stratify=df_train_cat['1category'])\n",
        "\n",
        "train_texts_ = train_df_cat['cleaned'].values\n",
        "valid_texts_ = valid_df_cat['cleaned'].values\n",
        "\n",
        "train_labels_cat = train_df_cat['1category'].apply(lambda x: get_lab_cat(x)).values\n",
        "valid_labels_cat = valid_df_cat['1category'].apply(lambda x: get_lab_cat(x)).values"
      ],
      "metadata": {
        "id": "d0WyOIPy2IWW"
      },
      "execution_count": 98,
      "outputs": []
    },
    {
      "cell_type": "code",
      "source": [
        "test_texts_ = df_test['cleaned'].values"
      ],
      "metadata": {
        "id": "LK1dda1iCnDN"
      },
      "execution_count": null,
      "outputs": []
    },
    {
      "cell_type": "code",
      "source": [
        "tokenizer_cat = Tokenizer()\n",
        "tokenizer_cat.fit_on_texts(train_texts_)\n",
        "\n",
        "word_index_c = tokenizer_cat.word_index\n",
        "dictionary_size_c = len(word_index_c.keys()) + 1\n",
        "\n",
        "train_to_seq_c = tokenizer_cat.texts_to_sequences(train_texts_)\n",
        "valid_to_seq_c = tokenizer_cat.texts_to_sequences(valid_texts_)\n",
        "\n",
        "max_len_c = max(train_df_cat['length'].values)\n",
        "train_seq_pad_c = sequence.pad_sequences(train_to_seq_c, maxlen=max_len_c)\n",
        "valid_seq_pad_c= sequence.pad_sequences(valid_to_seq_c, maxlen=max_len_c)"
      ],
      "metadata": {
        "id": "XrLXPB798eRr"
      },
      "execution_count": 115,
      "outputs": []
    },
    {
      "cell_type": "code",
      "source": [
        "fasttext_model = fasttext.load_model('rudrec_fasttext_model.bin')\n",
        "\n",
        "embedding_matrix_cat = np.zeros((dictionary_size_c, emb_size))\n",
        "\n",
        "for word, i in word_index_c.items():\n",
        "    embedding_vector = fasttext_model.get_word_vector((word))\n",
        "    if (embedding_vector is not None) and len(embedding_vector) > 0:\n",
        "        embedding_matrix_cat[i] = embedding_vector"
      ],
      "metadata": {
        "id": "mopZY0vx8dgj"
      },
      "execution_count": 116,
      "outputs": []
    },
    {
      "cell_type": "code",
      "source": [
        "model_cat = CNN_for_text(maxlen=max_len_c, max_features=dictionary_size_c, \n",
        "                embedding_dims=emb_size, embedding_weights=embedding_matrix_cat, \n",
        "                class_num=4, last_activation='softmax')\n",
        "\n",
        "model_cat.compile(loss='sparse_categorical_crossentropy', optimizer='adam', metrics=['accuracy'])\n",
        "\n",
        "early_stopping = EarlyStopping(monitor='val_accuracy', patience=5 , mode='max', restore_best_weights=True)\n",
        "\n",
        "model_hist_cat = model_cat.fit(train_seq_pad_c, train_labels_cat,\n",
        "        batch_size=128,\n",
        "        epochs=10,\n",
        "        callbacks=[early_stopping, ],\n",
        "        validation_data=(valid_seq_pad_c, valid_labels_cat))"
      ],
      "metadata": {
        "colab": {
          "base_uri": "https://localhost:8080/"
        },
        "id": "Mv3QCqJ07uV-",
        "outputId": "a273c1f3-265c-488e-9e93-8eb864a8c44d"
      },
      "execution_count": 118,
      "outputs": [
        {
          "output_type": "stream",
          "name": "stdout",
          "text": [
            "Epoch 1/10\n",
            "90/90 [==============================] - 75s 810ms/step - loss: 0.7546 - accuracy: 0.6655 - val_loss: 0.6454 - val_accuracy: 0.7103\n",
            "Epoch 2/10\n",
            "90/90 [==============================] - 74s 826ms/step - loss: 0.5357 - accuracy: 0.7659 - val_loss: 0.6450 - val_accuracy: 0.7044\n",
            "Epoch 3/10\n",
            "90/90 [==============================] - 72s 803ms/step - loss: 0.4581 - accuracy: 0.7925 - val_loss: 0.7064 - val_accuracy: 0.6801\n",
            "Epoch 4/10\n",
            "90/90 [==============================] - 75s 839ms/step - loss: 0.4135 - accuracy: 0.8031 - val_loss: 0.7108 - val_accuracy: 0.6880\n",
            "Epoch 5/10\n",
            "90/90 [==============================] - 93s 1s/step - loss: 0.3859 - accuracy: 0.8121 - val_loss: 0.7747 - val_accuracy: 0.6820\n",
            "Epoch 6/10\n",
            "90/90 [==============================] - 73s 812ms/step - loss: 0.3765 - accuracy: 0.8122 - val_loss: 0.7941 - val_accuracy: 0.6875\n"
          ]
        }
      ]
    },
    {
      "cell_type": "code",
      "source": [
        "predicted_valid_prob_cat = model_cat.predict(valid_seq_pad_c)"
      ],
      "metadata": {
        "colab": {
          "base_uri": "https://localhost:8080/"
        },
        "id": "kzqri4drCwpC",
        "outputId": "342b623b-dbc4-4317-9f34-c746c4e453a6"
      },
      "execution_count": 119,
      "outputs": [
        {
          "output_type": "stream",
          "name": "stdout",
          "text": [
            "63/63 [==============================] - 3s 42ms/step\n"
          ]
        }
      ]
    },
    {
      "cell_type": "code",
      "source": [
        "valid_df_cat['Communication_prob'] = predicted_valid_prob_cat[:, 0]\n",
        "valid_df_cat['Quality_prob'] = predicted_valid_prob_cat[:, 1]\n",
        "valid_df_cat['Price_prob'] = predicted_valid_prob_cat[:, 2]\n",
        "valid_df_cat['Safety_prob'] = predicted_valid_prob_cat[:, 3]"
      ],
      "metadata": {
        "id": "Ee_5Ek0vDbSE"
      },
      "execution_count": 127,
      "outputs": []
    },
    {
      "cell_type": "code",
      "source": [
        "valid_df_cat.head(10)"
      ],
      "metadata": {
        "colab": {
          "base_uri": "https://localhost:8080/",
          "height": 1000
        },
        "id": "Yyshxh7zD8mC",
        "outputId": "78578e2b-3899-4b98-fc5f-23bb732ea1ac"
      },
      "execution_count": 129,
      "outputs": [
        {
          "output_type": "execute_result",
          "data": {
            "text/plain": [
              "       Unnamed: 0     id                                           sentence  \\\n",
              "1145         1145  18160  И это очень большая проблема, так как очень ча...   \n",
              "6549         6549  14844  Так же, мы очень благодарны девочкам, особенно...   \n",
              "6389         6389   5136  Подали заявку в отделение 19.02.2021 , докумен...   \n",
              "10858       10858   8484  Только стандартные отговорки что мы колл-центр...   \n",
              "9411         9411   7974  Когда это будет сделано... это не сервис, я об...   \n",
              "7877         7877   4984  После чего еще за 5 минут как то сразу всех бы...   \n",
              "2408         2408   4775         Всё необходимое я получил в полном объёме.   \n",
              "10809       10809   7753  21.05.2020 позвонил сотрудник банка с номера 7...   \n",
              "2303         2303  17854  Когда мне девушка ее дала, я немного обалдела ...   \n",
              "3697         3697  18074  Остается только два вопроса, за что арестован ...   \n",
              "\n",
              "           1category 2category sentiment  \\\n",
              "1145         Quality       NaN         −   \n",
              "6549         Quality       NaN         +   \n",
              "6389   Communication       NaN         +   \n",
              "10858  Communication       NaN         −   \n",
              "9411   Communication       NaN         −   \n",
              "7877   Communication       NaN         +   \n",
              "2408   Communication       NaN         +   \n",
              "10809  Communication       NaN         −   \n",
              "2303         Quality       NaN         −   \n",
              "3697         Quality       NaN         −   \n",
              "\n",
              "                                                 cleaned  length  with not  \\\n",
              "1145   очень больший проблема очень часто деньга срок...      12         1   \n",
              "6549   очень благодарный девочка особенно надежда вып...      13         0   \n",
              "6389   подать заявка отделение документ принять сказа...      28         0   \n",
              "10858       стандартный отговорка не мочь колл центр ? ?       8         1   \n",
              "9411   сделать не сервис обеспокоить возмутить сложит...      36         1   \n",
              "7877              ещё минута сразу весь быстро обслужить       6         0   \n",
              "2408               всё необходимый получить полный объём       5         1   \n",
              "10809  позвонить сотрудник банк номер подтвердить спу...      13         0   \n",
              "2303   девушка дать немного обалдеть имя карта написа...      16         1   \n",
              "3697   оставаться вопрос арестовать счёт согласно док...      14         0   \n",
              "\n",
              "       with ? or !  with \"  Communication_prob  Quality_prob  Price_prob  \\\n",
              "1145             0       0            0.160987      0.735605    0.095225   \n",
              "6549             0       0            0.404247      0.574684    0.013701   \n",
              "6389             1       0            0.475089      0.504071    0.013901   \n",
              "10858            1       0            0.751570      0.223623    0.009782   \n",
              "9411             0       0            0.652574      0.325391    0.009767   \n",
              "7877             0       0            0.284121      0.699574    0.011380   \n",
              "2408             0       0            0.403382      0.413279    0.163776   \n",
              "10809            1       0            0.878925      0.097905    0.004755   \n",
              "2303             0       0            0.356387      0.583139    0.027712   \n",
              "3697             1       0            0.245931      0.563259    0.137231   \n",
              "\n",
              "       Safety_prob  \n",
              "1145      0.008183  \n",
              "6549      0.007368  \n",
              "6389      0.006939  \n",
              "10858     0.015025  \n",
              "9411      0.012268  \n",
              "7877      0.004926  \n",
              "2408      0.019563  \n",
              "10809     0.018415  \n",
              "2303      0.032761  \n",
              "3697      0.053579  "
            ],
            "text/html": [
              "\n",
              "  <div id=\"df-1b69a107-7661-41f7-be2f-1ced695256d1\">\n",
              "    <div class=\"colab-df-container\">\n",
              "      <div>\n",
              "<style scoped>\n",
              "    .dataframe tbody tr th:only-of-type {\n",
              "        vertical-align: middle;\n",
              "    }\n",
              "\n",
              "    .dataframe tbody tr th {\n",
              "        vertical-align: top;\n",
              "    }\n",
              "\n",
              "    .dataframe thead th {\n",
              "        text-align: right;\n",
              "    }\n",
              "</style>\n",
              "<table border=\"1\" class=\"dataframe\">\n",
              "  <thead>\n",
              "    <tr style=\"text-align: right;\">\n",
              "      <th></th>\n",
              "      <th>Unnamed: 0</th>\n",
              "      <th>id</th>\n",
              "      <th>sentence</th>\n",
              "      <th>1category</th>\n",
              "      <th>2category</th>\n",
              "      <th>sentiment</th>\n",
              "      <th>cleaned</th>\n",
              "      <th>length</th>\n",
              "      <th>with not</th>\n",
              "      <th>with ? or !</th>\n",
              "      <th>with \"</th>\n",
              "      <th>Communication_prob</th>\n",
              "      <th>Quality_prob</th>\n",
              "      <th>Price_prob</th>\n",
              "      <th>Safety_prob</th>\n",
              "    </tr>\n",
              "  </thead>\n",
              "  <tbody>\n",
              "    <tr>\n",
              "      <th>1145</th>\n",
              "      <td>1145</td>\n",
              "      <td>18160</td>\n",
              "      <td>И это очень большая проблема, так как очень ча...</td>\n",
              "      <td>Quality</td>\n",
              "      <td>NaN</td>\n",
              "      <td>−</td>\n",
              "      <td>очень больший проблема очень часто деньга срок...</td>\n",
              "      <td>12</td>\n",
              "      <td>1</td>\n",
              "      <td>0</td>\n",
              "      <td>0</td>\n",
              "      <td>0.160987</td>\n",
              "      <td>0.735605</td>\n",
              "      <td>0.095225</td>\n",
              "      <td>0.008183</td>\n",
              "    </tr>\n",
              "    <tr>\n",
              "      <th>6549</th>\n",
              "      <td>6549</td>\n",
              "      <td>14844</td>\n",
              "      <td>Так же, мы очень благодарны девочкам, особенно...</td>\n",
              "      <td>Quality</td>\n",
              "      <td>NaN</td>\n",
              "      <td>+</td>\n",
              "      <td>очень благодарный девочка особенно надежда вып...</td>\n",
              "      <td>13</td>\n",
              "      <td>0</td>\n",
              "      <td>0</td>\n",
              "      <td>0</td>\n",
              "      <td>0.404247</td>\n",
              "      <td>0.574684</td>\n",
              "      <td>0.013701</td>\n",
              "      <td>0.007368</td>\n",
              "    </tr>\n",
              "    <tr>\n",
              "      <th>6389</th>\n",
              "      <td>6389</td>\n",
              "      <td>5136</td>\n",
              "      <td>Подали заявку в отделение 19.02.2021 , докумен...</td>\n",
              "      <td>Communication</td>\n",
              "      <td>NaN</td>\n",
              "      <td>+</td>\n",
              "      <td>подать заявка отделение документ принять сказа...</td>\n",
              "      <td>28</td>\n",
              "      <td>0</td>\n",
              "      <td>1</td>\n",
              "      <td>0</td>\n",
              "      <td>0.475089</td>\n",
              "      <td>0.504071</td>\n",
              "      <td>0.013901</td>\n",
              "      <td>0.006939</td>\n",
              "    </tr>\n",
              "    <tr>\n",
              "      <th>10858</th>\n",
              "      <td>10858</td>\n",
              "      <td>8484</td>\n",
              "      <td>Только стандартные отговорки что мы колл-центр...</td>\n",
              "      <td>Communication</td>\n",
              "      <td>NaN</td>\n",
              "      <td>−</td>\n",
              "      <td>стандартный отговорка не мочь колл центр ? ?</td>\n",
              "      <td>8</td>\n",
              "      <td>1</td>\n",
              "      <td>1</td>\n",
              "      <td>0</td>\n",
              "      <td>0.751570</td>\n",
              "      <td>0.223623</td>\n",
              "      <td>0.009782</td>\n",
              "      <td>0.015025</td>\n",
              "    </tr>\n",
              "    <tr>\n",
              "      <th>9411</th>\n",
              "      <td>9411</td>\n",
              "      <td>7974</td>\n",
              "      <td>Когда это будет сделано... это не сервис, я об...</td>\n",
              "      <td>Communication</td>\n",
              "      <td>NaN</td>\n",
              "      <td>−</td>\n",
              "      <td>сделать не сервис обеспокоить возмутить сложит...</td>\n",
              "      <td>36</td>\n",
              "      <td>1</td>\n",
              "      <td>0</td>\n",
              "      <td>0</td>\n",
              "      <td>0.652574</td>\n",
              "      <td>0.325391</td>\n",
              "      <td>0.009767</td>\n",
              "      <td>0.012268</td>\n",
              "    </tr>\n",
              "    <tr>\n",
              "      <th>7877</th>\n",
              "      <td>7877</td>\n",
              "      <td>4984</td>\n",
              "      <td>После чего еще за 5 минут как то сразу всех бы...</td>\n",
              "      <td>Communication</td>\n",
              "      <td>NaN</td>\n",
              "      <td>+</td>\n",
              "      <td>ещё минута сразу весь быстро обслужить</td>\n",
              "      <td>6</td>\n",
              "      <td>0</td>\n",
              "      <td>0</td>\n",
              "      <td>0</td>\n",
              "      <td>0.284121</td>\n",
              "      <td>0.699574</td>\n",
              "      <td>0.011380</td>\n",
              "      <td>0.004926</td>\n",
              "    </tr>\n",
              "    <tr>\n",
              "      <th>2408</th>\n",
              "      <td>2408</td>\n",
              "      <td>4775</td>\n",
              "      <td>Всё необходимое я получил в полном объёме.</td>\n",
              "      <td>Communication</td>\n",
              "      <td>NaN</td>\n",
              "      <td>+</td>\n",
              "      <td>всё необходимый получить полный объём</td>\n",
              "      <td>5</td>\n",
              "      <td>1</td>\n",
              "      <td>0</td>\n",
              "      <td>0</td>\n",
              "      <td>0.403382</td>\n",
              "      <td>0.413279</td>\n",
              "      <td>0.163776</td>\n",
              "      <td>0.019563</td>\n",
              "    </tr>\n",
              "    <tr>\n",
              "      <th>10809</th>\n",
              "      <td>10809</td>\n",
              "      <td>7753</td>\n",
              "      <td>21.05.2020 позвонил сотрудник банка с номера 7...</td>\n",
              "      <td>Communication</td>\n",
              "      <td>NaN</td>\n",
              "      <td>−</td>\n",
              "      <td>позвонить сотрудник банк номер подтвердить спу...</td>\n",
              "      <td>13</td>\n",
              "      <td>0</td>\n",
              "      <td>1</td>\n",
              "      <td>0</td>\n",
              "      <td>0.878925</td>\n",
              "      <td>0.097905</td>\n",
              "      <td>0.004755</td>\n",
              "      <td>0.018415</td>\n",
              "    </tr>\n",
              "    <tr>\n",
              "      <th>2303</th>\n",
              "      <td>2303</td>\n",
              "      <td>17854</td>\n",
              "      <td>Когда мне девушка ее дала, я немного обалдела ...</td>\n",
              "      <td>Quality</td>\n",
              "      <td>NaN</td>\n",
              "      <td>−</td>\n",
              "      <td>девушка дать немного обалдеть имя карта написа...</td>\n",
              "      <td>16</td>\n",
              "      <td>1</td>\n",
              "      <td>0</td>\n",
              "      <td>0</td>\n",
              "      <td>0.356387</td>\n",
              "      <td>0.583139</td>\n",
              "      <td>0.027712</td>\n",
              "      <td>0.032761</td>\n",
              "    </tr>\n",
              "    <tr>\n",
              "      <th>3697</th>\n",
              "      <td>3697</td>\n",
              "      <td>18074</td>\n",
              "      <td>Остается только два вопроса, за что арестован ...</td>\n",
              "      <td>Quality</td>\n",
              "      <td>NaN</td>\n",
              "      <td>−</td>\n",
              "      <td>оставаться вопрос арестовать счёт согласно док...</td>\n",
              "      <td>14</td>\n",
              "      <td>0</td>\n",
              "      <td>1</td>\n",
              "      <td>0</td>\n",
              "      <td>0.245931</td>\n",
              "      <td>0.563259</td>\n",
              "      <td>0.137231</td>\n",
              "      <td>0.053579</td>\n",
              "    </tr>\n",
              "  </tbody>\n",
              "</table>\n",
              "</div>\n",
              "      <button class=\"colab-df-convert\" onclick=\"convertToInteractive('df-1b69a107-7661-41f7-be2f-1ced695256d1')\"\n",
              "              title=\"Convert this dataframe to an interactive table.\"\n",
              "              style=\"display:none;\">\n",
              "        \n",
              "  <svg xmlns=\"http://www.w3.org/2000/svg\" height=\"24px\"viewBox=\"0 0 24 24\"\n",
              "       width=\"24px\">\n",
              "    <path d=\"M0 0h24v24H0V0z\" fill=\"none\"/>\n",
              "    <path d=\"M18.56 5.44l.94 2.06.94-2.06 2.06-.94-2.06-.94-.94-2.06-.94 2.06-2.06.94zm-11 1L8.5 8.5l.94-2.06 2.06-.94-2.06-.94L8.5 2.5l-.94 2.06-2.06.94zm10 10l.94 2.06.94-2.06 2.06-.94-2.06-.94-.94-2.06-.94 2.06-2.06.94z\"/><path d=\"M17.41 7.96l-1.37-1.37c-.4-.4-.92-.59-1.43-.59-.52 0-1.04.2-1.43.59L10.3 9.45l-7.72 7.72c-.78.78-.78 2.05 0 2.83L4 21.41c.39.39.9.59 1.41.59.51 0 1.02-.2 1.41-.59l7.78-7.78 2.81-2.81c.8-.78.8-2.07 0-2.86zM5.41 20L4 18.59l7.72-7.72 1.47 1.35L5.41 20z\"/>\n",
              "  </svg>\n",
              "      </button>\n",
              "      \n",
              "  <style>\n",
              "    .colab-df-container {\n",
              "      display:flex;\n",
              "      flex-wrap:wrap;\n",
              "      gap: 12px;\n",
              "    }\n",
              "\n",
              "    .colab-df-convert {\n",
              "      background-color: #E8F0FE;\n",
              "      border: none;\n",
              "      border-radius: 50%;\n",
              "      cursor: pointer;\n",
              "      display: none;\n",
              "      fill: #1967D2;\n",
              "      height: 32px;\n",
              "      padding: 0 0 0 0;\n",
              "      width: 32px;\n",
              "    }\n",
              "\n",
              "    .colab-df-convert:hover {\n",
              "      background-color: #E2EBFA;\n",
              "      box-shadow: 0px 1px 2px rgba(60, 64, 67, 0.3), 0px 1px 3px 1px rgba(60, 64, 67, 0.15);\n",
              "      fill: #174EA6;\n",
              "    }\n",
              "\n",
              "    [theme=dark] .colab-df-convert {\n",
              "      background-color: #3B4455;\n",
              "      fill: #D2E3FC;\n",
              "    }\n",
              "\n",
              "    [theme=dark] .colab-df-convert:hover {\n",
              "      background-color: #434B5C;\n",
              "      box-shadow: 0px 1px 3px 1px rgba(0, 0, 0, 0.15);\n",
              "      filter: drop-shadow(0px 1px 2px rgba(0, 0, 0, 0.3));\n",
              "      fill: #FFFFFF;\n",
              "    }\n",
              "  </style>\n",
              "\n",
              "      <script>\n",
              "        const buttonEl =\n",
              "          document.querySelector('#df-1b69a107-7661-41f7-be2f-1ced695256d1 button.colab-df-convert');\n",
              "        buttonEl.style.display =\n",
              "          google.colab.kernel.accessAllowed ? 'block' : 'none';\n",
              "\n",
              "        async function convertToInteractive(key) {\n",
              "          const element = document.querySelector('#df-1b69a107-7661-41f7-be2f-1ced695256d1');\n",
              "          const dataTable =\n",
              "            await google.colab.kernel.invokeFunction('convertToInteractive',\n",
              "                                                     [key], {});\n",
              "          if (!dataTable) return;\n",
              "\n",
              "          const docLinkHtml = 'Like what you see? Visit the ' +\n",
              "            '<a target=\"_blank\" href=https://colab.research.google.com/notebooks/data_table.ipynb>data table notebook</a>'\n",
              "            + ' to learn more about interactive tables.';\n",
              "          element.innerHTML = '';\n",
              "          dataTable['output_type'] = 'display_data';\n",
              "          await google.colab.output.renderOutput(dataTable, element);\n",
              "          const docLink = document.createElement('div');\n",
              "          docLink.innerHTML = docLinkHtml;\n",
              "          element.appendChild(docLink);\n",
              "        }\n",
              "      </script>\n",
              "    </div>\n",
              "  </div>\n",
              "  "
            ]
          },
          "metadata": {},
          "execution_count": 129
        }
      ]
    },
    {
      "cell_type": "code",
      "source": [
        "roc_auc_all_cat = roc_auc_score(valid_labels_cat, predicted_valid_prob_cat, multi_class='ovr')\n",
        "print(f'ROC-AUC по 4 классам = {round(roc_auc_all_cat, 5)}')"
      ],
      "metadata": {
        "colab": {
          "base_uri": "https://localhost:8080/"
        },
        "id": "6aZK1dW9E1LH",
        "outputId": "88e41ca0-5de1-4c97-f73c-4070e6583230"
      },
      "execution_count": 130,
      "outputs": [
        {
          "output_type": "stream",
          "name": "stdout",
          "text": [
            "ROC-AUC по 4 классам = 0.86654\n"
          ]
        }
      ]
    },
    {
      "cell_type": "code",
      "source": [
        "test_to_seq_c = tokenizer_cat.texts_to_sequences(test_texts)\n",
        "test_seq_pad_c = sequence.pad_sequences(test_to_seq_c, maxlen=max_len_c)"
      ],
      "metadata": {
        "id": "TS3T3zoyKiEE"
      },
      "execution_count": 168,
      "outputs": []
    },
    {
      "cell_type": "code",
      "source": [
        "predicted_test_prob_cat = model_cat.predict(test_seq_pad_c)\n",
        "\n",
        "df_test_final[\"communication\"] = predicted_test_prob_cat[:, 0]\n",
        "df_test_final[\"quality\"] = predicted_test_prob_cat[:, 1]\n",
        "df_test_final[\"price\"] = predicted_test_prob_cat[:, 2]\n",
        "df_test_final[\"safety\"] = predicted_test_prob_cat[:, 3]"
      ],
      "metadata": {
        "colab": {
          "base_uri": "https://localhost:8080/"
        },
        "id": "ZLXPk0O3KQPB",
        "outputId": "cd90abef-467d-4621-991e-1bf1366b46eb"
      },
      "execution_count": 169,
      "outputs": [
        {
          "output_type": "stream",
          "name": "stdout",
          "text": [
            "30/30 [==============================] - 2s 68ms/step\n"
          ]
        }
      ]
    },
    {
      "cell_type": "code",
      "source": [
        "df_test_final['second_category'] = [0]*df_test_final.shape[0]"
      ],
      "metadata": {
        "id": "Xl1ft-0eL1RL"
      },
      "execution_count": 170,
      "outputs": []
    },
    {
      "cell_type": "code",
      "source": [
        "df_test_final.head(5)"
      ],
      "metadata": {
        "colab": {
          "base_uri": "https://localhost:8080/",
          "height": 206
        },
        "id": "STcOlPtRL9x0",
        "outputId": "a31626ed-00d9-448a-b262-697d8704bf9c"
      },
      "execution_count": 171,
      "outputs": [
        {
          "output_type": "execute_result",
          "data": {
            "text/plain": [
              "   Unnamed: 0                                              texts         +  \\\n",
              "0           0  15.03.2022 обратился на горячую линию для закр...  0.213446   \n",
              "1           1  Уже который год в ТКБ не решается \"глобальная ...  0.233916   \n",
              "2           2                                        Добрый день  0.082350   \n",
              "3           3  Добрый день Сегодня, зайдя в свой личный кабин...  0.004751   \n",
              "4           4  Обслуживаюсь в Тинькофф пару лет, возникла жес...  0.965743   \n",
              "\n",
              "          -         ?  communication   quality     price    safety  \\\n",
              "0  0.566648  0.219906       0.287134  0.412462  0.256388  0.044016   \n",
              "1  0.647769  0.118315       0.173142  0.749694  0.059469  0.017695   \n",
              "2  0.028058  0.889592       0.656087  0.248804  0.072850  0.022259   \n",
              "3  0.963467  0.031782       0.630897  0.348531  0.014105  0.006468   \n",
              "4  0.001652  0.032604       0.213010  0.508669  0.265816  0.012505   \n",
              "\n",
              "   second_category  \n",
              "0                0  \n",
              "1                0  \n",
              "2                0  \n",
              "3                0  \n",
              "4                0  "
            ],
            "text/html": [
              "\n",
              "  <div id=\"df-b165ed2d-19c7-4386-90f3-68490fc8a67d\">\n",
              "    <div class=\"colab-df-container\">\n",
              "      <div>\n",
              "<style scoped>\n",
              "    .dataframe tbody tr th:only-of-type {\n",
              "        vertical-align: middle;\n",
              "    }\n",
              "\n",
              "    .dataframe tbody tr th {\n",
              "        vertical-align: top;\n",
              "    }\n",
              "\n",
              "    .dataframe thead th {\n",
              "        text-align: right;\n",
              "    }\n",
              "</style>\n",
              "<table border=\"1\" class=\"dataframe\">\n",
              "  <thead>\n",
              "    <tr style=\"text-align: right;\">\n",
              "      <th></th>\n",
              "      <th>Unnamed: 0</th>\n",
              "      <th>texts</th>\n",
              "      <th>+</th>\n",
              "      <th>-</th>\n",
              "      <th>?</th>\n",
              "      <th>communication</th>\n",
              "      <th>quality</th>\n",
              "      <th>price</th>\n",
              "      <th>safety</th>\n",
              "      <th>second_category</th>\n",
              "    </tr>\n",
              "  </thead>\n",
              "  <tbody>\n",
              "    <tr>\n",
              "      <th>0</th>\n",
              "      <td>0</td>\n",
              "      <td>15.03.2022 обратился на горячую линию для закр...</td>\n",
              "      <td>0.213446</td>\n",
              "      <td>0.566648</td>\n",
              "      <td>0.219906</td>\n",
              "      <td>0.287134</td>\n",
              "      <td>0.412462</td>\n",
              "      <td>0.256388</td>\n",
              "      <td>0.044016</td>\n",
              "      <td>0</td>\n",
              "    </tr>\n",
              "    <tr>\n",
              "      <th>1</th>\n",
              "      <td>1</td>\n",
              "      <td>Уже который год в ТКБ не решается \"глобальная ...</td>\n",
              "      <td>0.233916</td>\n",
              "      <td>0.647769</td>\n",
              "      <td>0.118315</td>\n",
              "      <td>0.173142</td>\n",
              "      <td>0.749694</td>\n",
              "      <td>0.059469</td>\n",
              "      <td>0.017695</td>\n",
              "      <td>0</td>\n",
              "    </tr>\n",
              "    <tr>\n",
              "      <th>2</th>\n",
              "      <td>2</td>\n",
              "      <td>Добрый день</td>\n",
              "      <td>0.082350</td>\n",
              "      <td>0.028058</td>\n",
              "      <td>0.889592</td>\n",
              "      <td>0.656087</td>\n",
              "      <td>0.248804</td>\n",
              "      <td>0.072850</td>\n",
              "      <td>0.022259</td>\n",
              "      <td>0</td>\n",
              "    </tr>\n",
              "    <tr>\n",
              "      <th>3</th>\n",
              "      <td>3</td>\n",
              "      <td>Добрый день Сегодня, зайдя в свой личный кабин...</td>\n",
              "      <td>0.004751</td>\n",
              "      <td>0.963467</td>\n",
              "      <td>0.031782</td>\n",
              "      <td>0.630897</td>\n",
              "      <td>0.348531</td>\n",
              "      <td>0.014105</td>\n",
              "      <td>0.006468</td>\n",
              "      <td>0</td>\n",
              "    </tr>\n",
              "    <tr>\n",
              "      <th>4</th>\n",
              "      <td>4</td>\n",
              "      <td>Обслуживаюсь в Тинькофф пару лет, возникла жес...</td>\n",
              "      <td>0.965743</td>\n",
              "      <td>0.001652</td>\n",
              "      <td>0.032604</td>\n",
              "      <td>0.213010</td>\n",
              "      <td>0.508669</td>\n",
              "      <td>0.265816</td>\n",
              "      <td>0.012505</td>\n",
              "      <td>0</td>\n",
              "    </tr>\n",
              "  </tbody>\n",
              "</table>\n",
              "</div>\n",
              "      <button class=\"colab-df-convert\" onclick=\"convertToInteractive('df-b165ed2d-19c7-4386-90f3-68490fc8a67d')\"\n",
              "              title=\"Convert this dataframe to an interactive table.\"\n",
              "              style=\"display:none;\">\n",
              "        \n",
              "  <svg xmlns=\"http://www.w3.org/2000/svg\" height=\"24px\"viewBox=\"0 0 24 24\"\n",
              "       width=\"24px\">\n",
              "    <path d=\"M0 0h24v24H0V0z\" fill=\"none\"/>\n",
              "    <path d=\"M18.56 5.44l.94 2.06.94-2.06 2.06-.94-2.06-.94-.94-2.06-.94 2.06-2.06.94zm-11 1L8.5 8.5l.94-2.06 2.06-.94-2.06-.94L8.5 2.5l-.94 2.06-2.06.94zm10 10l.94 2.06.94-2.06 2.06-.94-2.06-.94-.94-2.06-.94 2.06-2.06.94z\"/><path d=\"M17.41 7.96l-1.37-1.37c-.4-.4-.92-.59-1.43-.59-.52 0-1.04.2-1.43.59L10.3 9.45l-7.72 7.72c-.78.78-.78 2.05 0 2.83L4 21.41c.39.39.9.59 1.41.59.51 0 1.02-.2 1.41-.59l7.78-7.78 2.81-2.81c.8-.78.8-2.07 0-2.86zM5.41 20L4 18.59l7.72-7.72 1.47 1.35L5.41 20z\"/>\n",
              "  </svg>\n",
              "      </button>\n",
              "      \n",
              "  <style>\n",
              "    .colab-df-container {\n",
              "      display:flex;\n",
              "      flex-wrap:wrap;\n",
              "      gap: 12px;\n",
              "    }\n",
              "\n",
              "    .colab-df-convert {\n",
              "      background-color: #E8F0FE;\n",
              "      border: none;\n",
              "      border-radius: 50%;\n",
              "      cursor: pointer;\n",
              "      display: none;\n",
              "      fill: #1967D2;\n",
              "      height: 32px;\n",
              "      padding: 0 0 0 0;\n",
              "      width: 32px;\n",
              "    }\n",
              "\n",
              "    .colab-df-convert:hover {\n",
              "      background-color: #E2EBFA;\n",
              "      box-shadow: 0px 1px 2px rgba(60, 64, 67, 0.3), 0px 1px 3px 1px rgba(60, 64, 67, 0.15);\n",
              "      fill: #174EA6;\n",
              "    }\n",
              "\n",
              "    [theme=dark] .colab-df-convert {\n",
              "      background-color: #3B4455;\n",
              "      fill: #D2E3FC;\n",
              "    }\n",
              "\n",
              "    [theme=dark] .colab-df-convert:hover {\n",
              "      background-color: #434B5C;\n",
              "      box-shadow: 0px 1px 3px 1px rgba(0, 0, 0, 0.15);\n",
              "      filter: drop-shadow(0px 1px 2px rgba(0, 0, 0, 0.3));\n",
              "      fill: #FFFFFF;\n",
              "    }\n",
              "  </style>\n",
              "\n",
              "      <script>\n",
              "        const buttonEl =\n",
              "          document.querySelector('#df-b165ed2d-19c7-4386-90f3-68490fc8a67d button.colab-df-convert');\n",
              "        buttonEl.style.display =\n",
              "          google.colab.kernel.accessAllowed ? 'block' : 'none';\n",
              "\n",
              "        async function convertToInteractive(key) {\n",
              "          const element = document.querySelector('#df-b165ed2d-19c7-4386-90f3-68490fc8a67d');\n",
              "          const dataTable =\n",
              "            await google.colab.kernel.invokeFunction('convertToInteractive',\n",
              "                                                     [key], {});\n",
              "          if (!dataTable) return;\n",
              "\n",
              "          const docLinkHtml = 'Like what you see? Visit the ' +\n",
              "            '<a target=\"_blank\" href=https://colab.research.google.com/notebooks/data_table.ipynb>data table notebook</a>'\n",
              "            + ' to learn more about interactive tables.';\n",
              "          element.innerHTML = '';\n",
              "          dataTable['output_type'] = 'display_data';\n",
              "          await google.colab.output.renderOutput(dataTable, element);\n",
              "          const docLink = document.createElement('div');\n",
              "          docLink.innerHTML = docLinkHtml;\n",
              "          element.appendChild(docLink);\n",
              "        }\n",
              "      </script>\n",
              "    </div>\n",
              "  </div>\n",
              "  "
            ]
          },
          "metadata": {},
          "execution_count": 171
        }
      ]
    },
    {
      "cell_type": "code",
      "source": [
        "df_test_final.to_csv('test_result.csv')"
      ],
      "metadata": {
        "id": "YNxYhSKnL7k8"
      },
      "execution_count": 172,
      "outputs": []
    }
  ]
}